{
  "nbformat": 4,
  "nbformat_minor": 0,
  "metadata": {
    "colab": {
      "provenance": [],
      "gpuType": "T4",
      "mount_file_id": "1fjC8PMluOrDa_YpRsEzhG7ecfsVWY6jI",
      "authorship_tag": "ABX9TyOSmci2ZRr/OecNx2IwZEXO",
      "include_colab_link": true
    },
    "kernelspec": {
      "name": "python3",
      "display_name": "Python 3"
    },
    "language_info": {
      "name": "python"
    },
    "accelerator": "GPU"
  },
  "cells": [
    {
      "cell_type": "markdown",
      "metadata": {
        "id": "view-in-github",
        "colab_type": "text"
      },
      "source": [
        "<a href=\"https://colab.research.google.com/github/cristianmedinamontoya/Stochastic/blob/main/Stochastic_ICU_Model.ipynb\" target=\"_parent\"><img src=\"https://colab.research.google.com/assets/colab-badge.svg\" alt=\"Open In Colab\"/></a>"
      ]
    },
    {
      "cell_type": "markdown",
      "source": [
        "\n",
        "# Prediction Model ICU hospital\n"
      ],
      "metadata": {
        "id": "1VFxKwUD_VRq"
      }
    },
    {
      "cell_type": "code",
      "execution_count": 1,
      "metadata": {
        "id": "XZjVy_ndYeNA"
      },
      "outputs": [],
      "source": [
        "#This part is the libraries that i import that we use for running the line of codes over this notebook\n",
        "import matplotlib.pyplot as plt\n",
        "import numpy as np\n",
        "import seaborn as sns\n",
        "import pandas as pd\n",
        "from sklearn.model_selection import train_test_split\n",
        "from sklearn.ensemble import GradientBoostingClassifier\n",
        "from sklearn.impute import KNNImputer\n",
        "from sklearn.model_selection import train_test_split\n",
        "from imblearn.over_sampling import SMOTE\n",
        "from sklearn.model_selection import GridSearchCV\n",
        "from sklearn.metrics import classification_report, confusion_matrix, confusion_matrix, ConfusionMatrixDisplay"
      ]
    },
    {
      "cell_type": "code",
      "source": [
        "#Here we can read the csv file from my github repository as raw csv\n",
        "url = \"https://raw.githubusercontent.com/cristianmedinamontoya/Stochastic/main/DataForClass.csv\"\n",
        "data = pd.read_csv(url, sep=\";\")\n"
      ],
      "metadata": {
        "id": "-EWbj4uT3PZY"
      },
      "execution_count": 2,
      "outputs": []
    },
    {
      "cell_type": "code",
      "source": [
        "#Here we can check the data frame head\n",
        "data.head()"
      ],
      "metadata": {
        "colab": {
          "base_uri": "https://localhost:8080/",
          "height": 206
        },
        "id": "eIpU1i5r7rux",
        "outputId": "a7bc472a-b733-4da1-8e22-ec7d7722aede"
      },
      "execution_count": 3,
      "outputs": [
        {
          "output_type": "execute_result",
          "data": {
            "text/plain": [
              "     id     codes  age  gender       dates  bad  last  SAPS  Glasgow  TISS  \\\n",
              "0  8309  20017421   60       1  10/10/2019    0    in   NaN      6.0   NaN   \n",
              "1  8309  20017421   60       1  11/10/2019    0    in  85.0      5.0  37.0   \n",
              "2  8309  20017421   60       1  12/10/2019    0    in  66.0     10.0  35.0   \n",
              "3  8309  20017421   60       1  13/10/2019    1  last  57.0     14.0  29.0   \n",
              "4  6112  40026409   60       1  28/04/2018    0    in   NaN     11.0  29.0   \n",
              "\n",
              "      PA     FC   Temp  dayIn  \n",
              "0   73.0  130.0  37.30      1  \n",
              "1   71.0  100.0  37.69      2  \n",
              "2   94.0   95.0  37.69      3  \n",
              "3  101.0   93.0  37.88      4  \n",
              "4   36.0  124.0  36.32      1  "
            ],
            "text/html": [
              "\n",
              "  <div id=\"df-588eac13-4138-4d9d-ab9d-e9f985aa19b7\" class=\"colab-df-container\">\n",
              "    <div>\n",
              "<style scoped>\n",
              "    .dataframe tbody tr th:only-of-type {\n",
              "        vertical-align: middle;\n",
              "    }\n",
              "\n",
              "    .dataframe tbody tr th {\n",
              "        vertical-align: top;\n",
              "    }\n",
              "\n",
              "    .dataframe thead th {\n",
              "        text-align: right;\n",
              "    }\n",
              "</style>\n",
              "<table border=\"1\" class=\"dataframe\">\n",
              "  <thead>\n",
              "    <tr style=\"text-align: right;\">\n",
              "      <th></th>\n",
              "      <th>id</th>\n",
              "      <th>codes</th>\n",
              "      <th>age</th>\n",
              "      <th>gender</th>\n",
              "      <th>dates</th>\n",
              "      <th>bad</th>\n",
              "      <th>last</th>\n",
              "      <th>SAPS</th>\n",
              "      <th>Glasgow</th>\n",
              "      <th>TISS</th>\n",
              "      <th>PA</th>\n",
              "      <th>FC</th>\n",
              "      <th>Temp</th>\n",
              "      <th>dayIn</th>\n",
              "    </tr>\n",
              "  </thead>\n",
              "  <tbody>\n",
              "    <tr>\n",
              "      <th>0</th>\n",
              "      <td>8309</td>\n",
              "      <td>20017421</td>\n",
              "      <td>60</td>\n",
              "      <td>1</td>\n",
              "      <td>10/10/2019</td>\n",
              "      <td>0</td>\n",
              "      <td>in</td>\n",
              "      <td>NaN</td>\n",
              "      <td>6.0</td>\n",
              "      <td>NaN</td>\n",
              "      <td>73.0</td>\n",
              "      <td>130.0</td>\n",
              "      <td>37.30</td>\n",
              "      <td>1</td>\n",
              "    </tr>\n",
              "    <tr>\n",
              "      <th>1</th>\n",
              "      <td>8309</td>\n",
              "      <td>20017421</td>\n",
              "      <td>60</td>\n",
              "      <td>1</td>\n",
              "      <td>11/10/2019</td>\n",
              "      <td>0</td>\n",
              "      <td>in</td>\n",
              "      <td>85.0</td>\n",
              "      <td>5.0</td>\n",
              "      <td>37.0</td>\n",
              "      <td>71.0</td>\n",
              "      <td>100.0</td>\n",
              "      <td>37.69</td>\n",
              "      <td>2</td>\n",
              "    </tr>\n",
              "    <tr>\n",
              "      <th>2</th>\n",
              "      <td>8309</td>\n",
              "      <td>20017421</td>\n",
              "      <td>60</td>\n",
              "      <td>1</td>\n",
              "      <td>12/10/2019</td>\n",
              "      <td>0</td>\n",
              "      <td>in</td>\n",
              "      <td>66.0</td>\n",
              "      <td>10.0</td>\n",
              "      <td>35.0</td>\n",
              "      <td>94.0</td>\n",
              "      <td>95.0</td>\n",
              "      <td>37.69</td>\n",
              "      <td>3</td>\n",
              "    </tr>\n",
              "    <tr>\n",
              "      <th>3</th>\n",
              "      <td>8309</td>\n",
              "      <td>20017421</td>\n",
              "      <td>60</td>\n",
              "      <td>1</td>\n",
              "      <td>13/10/2019</td>\n",
              "      <td>1</td>\n",
              "      <td>last</td>\n",
              "      <td>57.0</td>\n",
              "      <td>14.0</td>\n",
              "      <td>29.0</td>\n",
              "      <td>101.0</td>\n",
              "      <td>93.0</td>\n",
              "      <td>37.88</td>\n",
              "      <td>4</td>\n",
              "    </tr>\n",
              "    <tr>\n",
              "      <th>4</th>\n",
              "      <td>6112</td>\n",
              "      <td>40026409</td>\n",
              "      <td>60</td>\n",
              "      <td>1</td>\n",
              "      <td>28/04/2018</td>\n",
              "      <td>0</td>\n",
              "      <td>in</td>\n",
              "      <td>NaN</td>\n",
              "      <td>11.0</td>\n",
              "      <td>29.0</td>\n",
              "      <td>36.0</td>\n",
              "      <td>124.0</td>\n",
              "      <td>36.32</td>\n",
              "      <td>1</td>\n",
              "    </tr>\n",
              "  </tbody>\n",
              "</table>\n",
              "</div>\n",
              "    <div class=\"colab-df-buttons\">\n",
              "\n",
              "  <div class=\"colab-df-container\">\n",
              "    <button class=\"colab-df-convert\" onclick=\"convertToInteractive('df-588eac13-4138-4d9d-ab9d-e9f985aa19b7')\"\n",
              "            title=\"Convert this dataframe to an interactive table.\"\n",
              "            style=\"display:none;\">\n",
              "\n",
              "  <svg xmlns=\"http://www.w3.org/2000/svg\" height=\"24px\" viewBox=\"0 -960 960 960\">\n",
              "    <path d=\"M120-120v-720h720v720H120Zm60-500h600v-160H180v160Zm220 220h160v-160H400v160Zm0 220h160v-160H400v160ZM180-400h160v-160H180v160Zm440 0h160v-160H620v160ZM180-180h160v-160H180v160Zm440 0h160v-160H620v160Z\"/>\n",
              "  </svg>\n",
              "    </button>\n",
              "\n",
              "  <style>\n",
              "    .colab-df-container {\n",
              "      display:flex;\n",
              "      gap: 12px;\n",
              "    }\n",
              "\n",
              "    .colab-df-convert {\n",
              "      background-color: #E8F0FE;\n",
              "      border: none;\n",
              "      border-radius: 50%;\n",
              "      cursor: pointer;\n",
              "      display: none;\n",
              "      fill: #1967D2;\n",
              "      height: 32px;\n",
              "      padding: 0 0 0 0;\n",
              "      width: 32px;\n",
              "    }\n",
              "\n",
              "    .colab-df-convert:hover {\n",
              "      background-color: #E2EBFA;\n",
              "      box-shadow: 0px 1px 2px rgba(60, 64, 67, 0.3), 0px 1px 3px 1px rgba(60, 64, 67, 0.15);\n",
              "      fill: #174EA6;\n",
              "    }\n",
              "\n",
              "    .colab-df-buttons div {\n",
              "      margin-bottom: 4px;\n",
              "    }\n",
              "\n",
              "    [theme=dark] .colab-df-convert {\n",
              "      background-color: #3B4455;\n",
              "      fill: #D2E3FC;\n",
              "    }\n",
              "\n",
              "    [theme=dark] .colab-df-convert:hover {\n",
              "      background-color: #434B5C;\n",
              "      box-shadow: 0px 1px 3px 1px rgba(0, 0, 0, 0.15);\n",
              "      filter: drop-shadow(0px 1px 2px rgba(0, 0, 0, 0.3));\n",
              "      fill: #FFFFFF;\n",
              "    }\n",
              "  </style>\n",
              "\n",
              "    <script>\n",
              "      const buttonEl =\n",
              "        document.querySelector('#df-588eac13-4138-4d9d-ab9d-e9f985aa19b7 button.colab-df-convert');\n",
              "      buttonEl.style.display =\n",
              "        google.colab.kernel.accessAllowed ? 'block' : 'none';\n",
              "\n",
              "      async function convertToInteractive(key) {\n",
              "        const element = document.querySelector('#df-588eac13-4138-4d9d-ab9d-e9f985aa19b7');\n",
              "        const dataTable =\n",
              "          await google.colab.kernel.invokeFunction('convertToInteractive',\n",
              "                                                    [key], {});\n",
              "        if (!dataTable) return;\n",
              "\n",
              "        const docLinkHtml = 'Like what you see? Visit the ' +\n",
              "          '<a target=\"_blank\" href=https://colab.research.google.com/notebooks/data_table.ipynb>data table notebook</a>'\n",
              "          + ' to learn more about interactive tables.';\n",
              "        element.innerHTML = '';\n",
              "        dataTable['output_type'] = 'display_data';\n",
              "        await google.colab.output.renderOutput(dataTable, element);\n",
              "        const docLink = document.createElement('div');\n",
              "        docLink.innerHTML = docLinkHtml;\n",
              "        element.appendChild(docLink);\n",
              "      }\n",
              "    </script>\n",
              "  </div>\n",
              "\n",
              "\n",
              "<div id=\"df-1cd7237e-4045-49e5-8d08-521bd4aaea69\">\n",
              "  <button class=\"colab-df-quickchart\" onclick=\"quickchart('df-1cd7237e-4045-49e5-8d08-521bd4aaea69')\"\n",
              "            title=\"Suggest charts\"\n",
              "            style=\"display:none;\">\n",
              "\n",
              "<svg xmlns=\"http://www.w3.org/2000/svg\" height=\"24px\"viewBox=\"0 0 24 24\"\n",
              "     width=\"24px\">\n",
              "    <g>\n",
              "        <path d=\"M19 3H5c-1.1 0-2 .9-2 2v14c0 1.1.9 2 2 2h14c1.1 0 2-.9 2-2V5c0-1.1-.9-2-2-2zM9 17H7v-7h2v7zm4 0h-2V7h2v10zm4 0h-2v-4h2v4z\"/>\n",
              "    </g>\n",
              "</svg>\n",
              "  </button>\n",
              "\n",
              "<style>\n",
              "  .colab-df-quickchart {\n",
              "      --bg-color: #E8F0FE;\n",
              "      --fill-color: #1967D2;\n",
              "      --hover-bg-color: #E2EBFA;\n",
              "      --hover-fill-color: #174EA6;\n",
              "      --disabled-fill-color: #AAA;\n",
              "      --disabled-bg-color: #DDD;\n",
              "  }\n",
              "\n",
              "  [theme=dark] .colab-df-quickchart {\n",
              "      --bg-color: #3B4455;\n",
              "      --fill-color: #D2E3FC;\n",
              "      --hover-bg-color: #434B5C;\n",
              "      --hover-fill-color: #FFFFFF;\n",
              "      --disabled-bg-color: #3B4455;\n",
              "      --disabled-fill-color: #666;\n",
              "  }\n",
              "\n",
              "  .colab-df-quickchart {\n",
              "    background-color: var(--bg-color);\n",
              "    border: none;\n",
              "    border-radius: 50%;\n",
              "    cursor: pointer;\n",
              "    display: none;\n",
              "    fill: var(--fill-color);\n",
              "    height: 32px;\n",
              "    padding: 0;\n",
              "    width: 32px;\n",
              "  }\n",
              "\n",
              "  .colab-df-quickchart:hover {\n",
              "    background-color: var(--hover-bg-color);\n",
              "    box-shadow: 0 1px 2px rgba(60, 64, 67, 0.3), 0 1px 3px 1px rgba(60, 64, 67, 0.15);\n",
              "    fill: var(--button-hover-fill-color);\n",
              "  }\n",
              "\n",
              "  .colab-df-quickchart-complete:disabled,\n",
              "  .colab-df-quickchart-complete:disabled:hover {\n",
              "    background-color: var(--disabled-bg-color);\n",
              "    fill: var(--disabled-fill-color);\n",
              "    box-shadow: none;\n",
              "  }\n",
              "\n",
              "  .colab-df-spinner {\n",
              "    border: 2px solid var(--fill-color);\n",
              "    border-color: transparent;\n",
              "    border-bottom-color: var(--fill-color);\n",
              "    animation:\n",
              "      spin 1s steps(1) infinite;\n",
              "  }\n",
              "\n",
              "  @keyframes spin {\n",
              "    0% {\n",
              "      border-color: transparent;\n",
              "      border-bottom-color: var(--fill-color);\n",
              "      border-left-color: var(--fill-color);\n",
              "    }\n",
              "    20% {\n",
              "      border-color: transparent;\n",
              "      border-left-color: var(--fill-color);\n",
              "      border-top-color: var(--fill-color);\n",
              "    }\n",
              "    30% {\n",
              "      border-color: transparent;\n",
              "      border-left-color: var(--fill-color);\n",
              "      border-top-color: var(--fill-color);\n",
              "      border-right-color: var(--fill-color);\n",
              "    }\n",
              "    40% {\n",
              "      border-color: transparent;\n",
              "      border-right-color: var(--fill-color);\n",
              "      border-top-color: var(--fill-color);\n",
              "    }\n",
              "    60% {\n",
              "      border-color: transparent;\n",
              "      border-right-color: var(--fill-color);\n",
              "    }\n",
              "    80% {\n",
              "      border-color: transparent;\n",
              "      border-right-color: var(--fill-color);\n",
              "      border-bottom-color: var(--fill-color);\n",
              "    }\n",
              "    90% {\n",
              "      border-color: transparent;\n",
              "      border-bottom-color: var(--fill-color);\n",
              "    }\n",
              "  }\n",
              "</style>\n",
              "\n",
              "  <script>\n",
              "    async function quickchart(key) {\n",
              "      const quickchartButtonEl =\n",
              "        document.querySelector('#' + key + ' button');\n",
              "      quickchartButtonEl.disabled = true;  // To prevent multiple clicks.\n",
              "      quickchartButtonEl.classList.add('colab-df-spinner');\n",
              "      try {\n",
              "        const charts = await google.colab.kernel.invokeFunction(\n",
              "            'suggestCharts', [key], {});\n",
              "      } catch (error) {\n",
              "        console.error('Error during call to suggestCharts:', error);\n",
              "      }\n",
              "      quickchartButtonEl.classList.remove('colab-df-spinner');\n",
              "      quickchartButtonEl.classList.add('colab-df-quickchart-complete');\n",
              "    }\n",
              "    (() => {\n",
              "      let quickchartButtonEl =\n",
              "        document.querySelector('#df-1cd7237e-4045-49e5-8d08-521bd4aaea69 button');\n",
              "      quickchartButtonEl.style.display =\n",
              "        google.colab.kernel.accessAllowed ? 'block' : 'none';\n",
              "    })();\n",
              "  </script>\n",
              "</div>\n",
              "    </div>\n",
              "  </div>\n"
            ],
            "application/vnd.google.colaboratory.intrinsic+json": {
              "type": "dataframe",
              "variable_name": "data",
              "summary": "{\n  \"name\": \"data\",\n  \"rows\": 6228,\n  \"fields\": [\n    {\n      \"column\": \"id\",\n      \"properties\": {\n        \"dtype\": \"number\",\n        \"std\": 875,\n        \"min\": 5583,\n        \"max\": 8680,\n        \"num_unique_values\": 845,\n        \"samples\": [\n          6375,\n          7964,\n          7187\n        ],\n        \"semantic_type\": \"\",\n        \"description\": \"\"\n      }\n    },\n    {\n      \"column\": \"codes\",\n      \"properties\": {\n        \"dtype\": \"number\",\n        \"std\": 11619467,\n        \"min\": 20017421,\n        \"max\": 504138853,\n        \"num_unique_values\": 707,\n        \"samples\": [\n          50740374,\n          50223559,\n          50214145\n        ],\n        \"semantic_type\": \"\",\n        \"description\": \"\"\n      }\n    },\n    {\n      \"column\": \"age\",\n      \"properties\": {\n        \"dtype\": \"number\",\n        \"std\": 16,\n        \"min\": 14,\n        \"max\": 96,\n        \"num_unique_values\": 80,\n        \"samples\": [\n          36,\n          60,\n          74\n        ],\n        \"semantic_type\": \"\",\n        \"description\": \"\"\n      }\n    },\n    {\n      \"column\": \"gender\",\n      \"properties\": {\n        \"dtype\": \"number\",\n        \"std\": 0,\n        \"min\": 0,\n        \"max\": 1,\n        \"num_unique_values\": 2,\n        \"samples\": [\n          0,\n          1\n        ],\n        \"semantic_type\": \"\",\n        \"description\": \"\"\n      }\n    },\n    {\n      \"column\": \"dates\",\n      \"properties\": {\n        \"dtype\": \"category\",\n        \"num_unique_values\": 730,\n        \"samples\": [\n          \"11/11/2019\",\n          \"11/09/2019\"\n        ],\n        \"semantic_type\": \"\",\n        \"description\": \"\"\n      }\n    },\n    {\n      \"column\": \"bad\",\n      \"properties\": {\n        \"dtype\": \"number\",\n        \"std\": 0,\n        \"min\": 0,\n        \"max\": 1,\n        \"num_unique_values\": 2,\n        \"samples\": [\n          1,\n          0\n        ],\n        \"semantic_type\": \"\",\n        \"description\": \"\"\n      }\n    },\n    {\n      \"column\": \"last\",\n      \"properties\": {\n        \"dtype\": \"category\",\n        \"num_unique_values\": 2,\n        \"samples\": [\n          \"last\",\n          \"in\"\n        ],\n        \"semantic_type\": \"\",\n        \"description\": \"\"\n      }\n    },\n    {\n      \"column\": \"SAPS\",\n      \"properties\": {\n        \"dtype\": \"number\",\n        \"std\": 16.9030490243012,\n        \"min\": 2.0,\n        \"max\": 115.0,\n        \"num_unique_values\": 105,\n        \"samples\": [\n          77.0,\n          13.0\n        ],\n        \"semantic_type\": \"\",\n        \"description\": \"\"\n      }\n    },\n    {\n      \"column\": \"Glasgow\",\n      \"properties\": {\n        \"dtype\": \"number\",\n        \"std\": 4.331865863475581,\n        \"min\": 3.0,\n        \"max\": 15.0,\n        \"num_unique_values\": 13,\n        \"samples\": [\n          4.0,\n          7.0\n        ],\n        \"semantic_type\": \"\",\n        \"description\": \"\"\n      }\n    },\n    {\n      \"column\": \"TISS\",\n      \"properties\": {\n        \"dtype\": \"number\",\n        \"std\": 6.759077430286028,\n        \"min\": 3.0,\n        \"max\": 57.0,\n        \"num_unique_values\": 52,\n        \"samples\": [\n          26.0,\n          56.0\n        ],\n        \"semantic_type\": \"\",\n        \"description\": \"\"\n      }\n    },\n    {\n      \"column\": \"PA\",\n      \"properties\": {\n        \"dtype\": \"number\",\n        \"std\": 28.955363303658903,\n        \"min\": 1.0,\n        \"max\": 865.0,\n        \"num_unique_values\": 225,\n        \"samples\": [\n          83.0,\n          14.0\n        ],\n        \"semantic_type\": \"\",\n        \"description\": \"\"\n      }\n    },\n    {\n      \"column\": \"FC\",\n      \"properties\": {\n        \"dtype\": \"number\",\n        \"std\": 20.537417893936276,\n        \"min\": 24.0,\n        \"max\": 196.0,\n        \"num_unique_values\": 143,\n        \"samples\": [\n          142.0,\n          98.0\n        ],\n        \"semantic_type\": \"\",\n        \"description\": \"\"\n      }\n    },\n    {\n      \"column\": \"Temp\",\n      \"properties\": {\n        \"dtype\": \"number\",\n        \"std\": 1.0449617777313176,\n        \"min\": 7.0,\n        \"max\": 41.0,\n        \"num_unique_values\": 551,\n        \"samples\": [\n          34.06,\n          35.84\n        ],\n        \"semantic_type\": \"\",\n        \"description\": \"\"\n      }\n    },\n    {\n      \"column\": \"dayIn\",\n      \"properties\": {\n        \"dtype\": \"number\",\n        \"std\": 7,\n        \"min\": 1,\n        \"max\": 64,\n        \"num_unique_values\": 64,\n        \"samples\": [\n          53,\n          59\n        ],\n        \"semantic_type\": \"\",\n        \"description\": \"\"\n      }\n    }\n  ]\n}"
            }
          },
          "metadata": {},
          "execution_count": 3
        }
      ]
    },
    {
      "cell_type": "code",
      "source": [
        "# Handling missing values using KNNImputer\n",
        "imputer = KNNImputer(n_neighbors=7)\n",
        "data[['SAPS', 'Glasgow', 'TISS', 'PA', 'FC', 'Temp']] = imputer.fit_transform(data[['SAPS', 'Glasgow', 'TISS', 'PA', 'FC', 'Temp']])"
      ],
      "metadata": {
        "id": "RhUPULsKhwVM"
      },
      "execution_count": 4,
      "outputs": []
    },
    {
      "cell_type": "code",
      "source": [
        "# Selecting relevant features (excluding 'id', 'codes', and 'last which are likely non-predictive)\n",
        "features = ['age', 'gender', 'SAPS', 'Glasgow', 'TISS', 'PA', 'FC', 'Temp', 'dayIn']\n",
        "X = data[features] #This uses all other values as features/labels to be used in the model KNN\n",
        "y = data['bad'] # According to the predictive model - The column \"bad\" is designed to be the target"
      ],
      "metadata": {
        "id": "FzF8_yQdh0Vo"
      },
      "execution_count": 5,
      "outputs": []
    },
    {
      "cell_type": "code",
      "source": [
        "# Splitting the dataset into training and testing sets\n",
        "X_train, X_test, y_train, y_test = train_test_split(X, y, test_size=0.2, random_state=42)\n",
        "X_train.shape, X_test.shape"
      ],
      "metadata": {
        "colab": {
          "base_uri": "https://localhost:8080/"
        },
        "id": "lIsRssZaYmD3",
        "outputId": "f4f381ff-744b-4175-c81b-c1642b3a18b9"
      },
      "execution_count": 6,
      "outputs": [
        {
          "output_type": "execute_result",
          "data": {
            "text/plain": [
              "((4982, 9), (1246, 9))"
            ]
          },
          "metadata": {},
          "execution_count": 6
        }
      ]
    },
    {
      "cell_type": "code",
      "source": [
        "#I run SMOTE for imbalanced samples\n",
        "smote = SMOTE(random_state=12)\n",
        "X_train_res, y_train_res = smote.fit_resample(X_train, y_train)\n",
        "X_test_res, y_test_res = smote.fit_resample(X_test, y_test)"
      ],
      "metadata": {
        "id": "U8BlutW5iNnZ"
      },
      "execution_count": 7,
      "outputs": []
    },
    {
      "cell_type": "code",
      "source": [
        "#In this line of code I check the SMOTE result for imbalanced result\n",
        "unique, count = np.unique(y_train_res, return_counts=True)\n",
        "y_train_smote_value_count = { k:v for (k,v) in zip(unique, count)}\n",
        "y_train_smote_value_count"
      ],
      "metadata": {
        "colab": {
          "base_uri": "https://localhost:8080/"
        },
        "id": "XRADpjdgiVKL",
        "outputId": "1ef70db4-d55d-4e76-d9e6-8d93e17daf49"
      },
      "execution_count": 8,
      "outputs": [
        {
          "output_type": "execute_result",
          "data": {
            "text/plain": [
              "{0: 4263, 1: 4263}"
            ]
          },
          "metadata": {},
          "execution_count": 8
        }
      ]
    },
    {
      "cell_type": "code",
      "source": [],
      "metadata": {
        "id": "fWaN9IvMjb6u"
      },
      "execution_count": 8,
      "outputs": []
    },
    {
      "cell_type": "code",
      "source": [
        "#Now checking that i got binary classification balanced after SMOTE I proceed to the run the model\n",
        "param_dict = {\n",
        "    'learning_rate': [0.1, 0.2],\n",
        "    'n_estimators': [20, 50, 75],\n",
        "    'max_depth': [1, 3, 5, None],\n",
        "    'n_iter_no_change': [None, 1, 5, 10]\n",
        "}\n",
        "\n",
        "grid_clf = GridSearchCV(\n",
        "    estimator = GradientBoostingClassifier(),\n",
        "    param_grid = param_dict,\n",
        "    scoring = 'f1_weighted',\n",
        "    refit = True,\n",
        "    cv = 3,\n",
        "    verbose = 10,\n",
        "    n_jobs = -1\n",
        ")\n",
        "\n",
        "grid_clf.fit(X_train_res, y_train_res)"
      ],
      "metadata": {
        "colab": {
          "base_uri": "https://localhost:8080/",
          "height": 135
        },
        "id": "KOr9FAXHjkas",
        "outputId": "431ef861-4530-4820-f5cd-9a309735d2c3"
      },
      "execution_count": 9,
      "outputs": [
        {
          "output_type": "stream",
          "name": "stdout",
          "text": [
            "Fitting 3 folds for each of 96 candidates, totalling 288 fits\n"
          ]
        },
        {
          "output_type": "execute_result",
          "data": {
            "text/plain": [
              "GridSearchCV(cv=3, estimator=GradientBoostingClassifier(), n_jobs=-1,\n",
              "             param_grid={'learning_rate': [0.1, 0.2],\n",
              "                         'max_depth': [1, 3, 5, None],\n",
              "                         'n_estimators': [20, 50, 75],\n",
              "                         'n_iter_no_change': [None, 1, 5, 10]},\n",
              "             scoring='f1_weighted', verbose=10)"
            ],
            "text/html": [
              "<style>#sk-container-id-1 {color: black;background-color: white;}#sk-container-id-1 pre{padding: 0;}#sk-container-id-1 div.sk-toggleable {background-color: white;}#sk-container-id-1 label.sk-toggleable__label {cursor: pointer;display: block;width: 100%;margin-bottom: 0;padding: 0.3em;box-sizing: border-box;text-align: center;}#sk-container-id-1 label.sk-toggleable__label-arrow:before {content: \"▸\";float: left;margin-right: 0.25em;color: #696969;}#sk-container-id-1 label.sk-toggleable__label-arrow:hover:before {color: black;}#sk-container-id-1 div.sk-estimator:hover label.sk-toggleable__label-arrow:before {color: black;}#sk-container-id-1 div.sk-toggleable__content {max-height: 0;max-width: 0;overflow: hidden;text-align: left;background-color: #f0f8ff;}#sk-container-id-1 div.sk-toggleable__content pre {margin: 0.2em;color: black;border-radius: 0.25em;background-color: #f0f8ff;}#sk-container-id-1 input.sk-toggleable__control:checked~div.sk-toggleable__content {max-height: 200px;max-width: 100%;overflow: auto;}#sk-container-id-1 input.sk-toggleable__control:checked~label.sk-toggleable__label-arrow:before {content: \"▾\";}#sk-container-id-1 div.sk-estimator input.sk-toggleable__control:checked~label.sk-toggleable__label {background-color: #d4ebff;}#sk-container-id-1 div.sk-label input.sk-toggleable__control:checked~label.sk-toggleable__label {background-color: #d4ebff;}#sk-container-id-1 input.sk-hidden--visually {border: 0;clip: rect(1px 1px 1px 1px);clip: rect(1px, 1px, 1px, 1px);height: 1px;margin: -1px;overflow: hidden;padding: 0;position: absolute;width: 1px;}#sk-container-id-1 div.sk-estimator {font-family: monospace;background-color: #f0f8ff;border: 1px dotted black;border-radius: 0.25em;box-sizing: border-box;margin-bottom: 0.5em;}#sk-container-id-1 div.sk-estimator:hover {background-color: #d4ebff;}#sk-container-id-1 div.sk-parallel-item::after {content: \"\";width: 100%;border-bottom: 1px solid gray;flex-grow: 1;}#sk-container-id-1 div.sk-label:hover label.sk-toggleable__label {background-color: #d4ebff;}#sk-container-id-1 div.sk-serial::before {content: \"\";position: absolute;border-left: 1px solid gray;box-sizing: border-box;top: 0;bottom: 0;left: 50%;z-index: 0;}#sk-container-id-1 div.sk-serial {display: flex;flex-direction: column;align-items: center;background-color: white;padding-right: 0.2em;padding-left: 0.2em;position: relative;}#sk-container-id-1 div.sk-item {position: relative;z-index: 1;}#sk-container-id-1 div.sk-parallel {display: flex;align-items: stretch;justify-content: center;background-color: white;position: relative;}#sk-container-id-1 div.sk-item::before, #sk-container-id-1 div.sk-parallel-item::before {content: \"\";position: absolute;border-left: 1px solid gray;box-sizing: border-box;top: 0;bottom: 0;left: 50%;z-index: -1;}#sk-container-id-1 div.sk-parallel-item {display: flex;flex-direction: column;z-index: 1;position: relative;background-color: white;}#sk-container-id-1 div.sk-parallel-item:first-child::after {align-self: flex-end;width: 50%;}#sk-container-id-1 div.sk-parallel-item:last-child::after {align-self: flex-start;width: 50%;}#sk-container-id-1 div.sk-parallel-item:only-child::after {width: 0;}#sk-container-id-1 div.sk-dashed-wrapped {border: 1px dashed gray;margin: 0 0.4em 0.5em 0.4em;box-sizing: border-box;padding-bottom: 0.4em;background-color: white;}#sk-container-id-1 div.sk-label label {font-family: monospace;font-weight: bold;display: inline-block;line-height: 1.2em;}#sk-container-id-1 div.sk-label-container {text-align: center;}#sk-container-id-1 div.sk-container {/* jupyter's `normalize.less` sets `[hidden] { display: none; }` but bootstrap.min.css set `[hidden] { display: none !important; }` so we also need the `!important` here to be able to override the default hidden behavior on the sphinx rendered scikit-learn.org. See: https://github.com/scikit-learn/scikit-learn/issues/21755 */display: inline-block !important;position: relative;}#sk-container-id-1 div.sk-text-repr-fallback {display: none;}</style><div id=\"sk-container-id-1\" class=\"sk-top-container\"><div class=\"sk-text-repr-fallback\"><pre>GridSearchCV(cv=3, estimator=GradientBoostingClassifier(), n_jobs=-1,\n",
              "             param_grid={&#x27;learning_rate&#x27;: [0.1, 0.2],\n",
              "                         &#x27;max_depth&#x27;: [1, 3, 5, None],\n",
              "                         &#x27;n_estimators&#x27;: [20, 50, 75],\n",
              "                         &#x27;n_iter_no_change&#x27;: [None, 1, 5, 10]},\n",
              "             scoring=&#x27;f1_weighted&#x27;, verbose=10)</pre><b>In a Jupyter environment, please rerun this cell to show the HTML representation or trust the notebook. <br />On GitHub, the HTML representation is unable to render, please try loading this page with nbviewer.org.</b></div><div class=\"sk-container\" hidden><div class=\"sk-item sk-dashed-wrapped\"><div class=\"sk-label-container\"><div class=\"sk-label sk-toggleable\"><input class=\"sk-toggleable__control sk-hidden--visually\" id=\"sk-estimator-id-1\" type=\"checkbox\" ><label for=\"sk-estimator-id-1\" class=\"sk-toggleable__label sk-toggleable__label-arrow\">GridSearchCV</label><div class=\"sk-toggleable__content\"><pre>GridSearchCV(cv=3, estimator=GradientBoostingClassifier(), n_jobs=-1,\n",
              "             param_grid={&#x27;learning_rate&#x27;: [0.1, 0.2],\n",
              "                         &#x27;max_depth&#x27;: [1, 3, 5, None],\n",
              "                         &#x27;n_estimators&#x27;: [20, 50, 75],\n",
              "                         &#x27;n_iter_no_change&#x27;: [None, 1, 5, 10]},\n",
              "             scoring=&#x27;f1_weighted&#x27;, verbose=10)</pre></div></div></div><div class=\"sk-parallel\"><div class=\"sk-parallel-item\"><div class=\"sk-item\"><div class=\"sk-label-container\"><div class=\"sk-label sk-toggleable\"><input class=\"sk-toggleable__control sk-hidden--visually\" id=\"sk-estimator-id-2\" type=\"checkbox\" ><label for=\"sk-estimator-id-2\" class=\"sk-toggleable__label sk-toggleable__label-arrow\">estimator: GradientBoostingClassifier</label><div class=\"sk-toggleable__content\"><pre>GradientBoostingClassifier()</pre></div></div></div><div class=\"sk-serial\"><div class=\"sk-item\"><div class=\"sk-estimator sk-toggleable\"><input class=\"sk-toggleable__control sk-hidden--visually\" id=\"sk-estimator-id-3\" type=\"checkbox\" ><label for=\"sk-estimator-id-3\" class=\"sk-toggleable__label sk-toggleable__label-arrow\">GradientBoostingClassifier</label><div class=\"sk-toggleable__content\"><pre>GradientBoostingClassifier()</pre></div></div></div></div></div></div></div></div></div></div>"
            ]
          },
          "metadata": {},
          "execution_count": 9
        }
      ]
    },
    {
      "cell_type": "code",
      "source": [
        "#Here we check the balanced values from 0 & 1\n",
        "y_train_res.eq(0).sum(), y_train_res.eq(1).sum()"
      ],
      "metadata": {
        "colab": {
          "base_uri": "https://localhost:8080/"
        },
        "id": "HUjF4-H2zYG_",
        "outputId": "3383f00f-796d-44d7-a8e4-467a57c15020"
      },
      "execution_count": 10,
      "outputs": [
        {
          "output_type": "execute_result",
          "data": {
            "text/plain": [
              "(4263, 4263)"
            ]
          },
          "metadata": {},
          "execution_count": 10
        }
      ]
    },
    {
      "cell_type": "code",
      "source": [
        "#Predict on the test set\n",
        "y_pred = grid_clf.best_estimator_.predict(X_test_res)"
      ],
      "metadata": {
        "id": "R7yulNM-j8CK"
      },
      "execution_count": 11,
      "outputs": []
    },
    {
      "cell_type": "code",
      "source": [
        "#Results from the model\n",
        "print('Best hyper-parameters:', grid_clf.best_params_)\n",
        "print('Best score:', grid_clf.best_score_)\n",
        "print(classification_report(y_test_res, y_pred))"
      ],
      "metadata": {
        "colab": {
          "base_uri": "https://localhost:8080/"
        },
        "id": "_p6sFNLxkLoZ",
        "outputId": "e288b4af-d745-4f06-a53d-3917033e1e9e"
      },
      "execution_count": 12,
      "outputs": [
        {
          "output_type": "stream",
          "name": "stdout",
          "text": [
            "Best hyper-parameters: {'learning_rate': 0.2, 'max_depth': 5, 'n_estimators': 75, 'n_iter_no_change': 5}\n",
            "Best score: 0.8822195476170188\n",
            "              precision    recall  f1-score   support\n",
            "\n",
            "           0       0.86      0.91      0.88      1078\n",
            "           1       0.90      0.86      0.88      1078\n",
            "\n",
            "    accuracy                           0.88      2156\n",
            "   macro avg       0.88      0.88      0.88      2156\n",
            "weighted avg       0.88      0.88      0.88      2156\n",
            "\n"
          ]
        }
      ]
    },
    {
      "cell_type": "code",
      "source": [
        "#Confusion Matrix\n",
        "cm = confusion_matrix(y_test_res, y_pred)\n",
        "ConfusionMatrixDisplay(confusion_matrix=cm, display_labels=[0,1]).plot(values_format='d', cmap=\"Blues\")"
      ],
      "metadata": {
        "colab": {
          "base_uri": "https://localhost:8080/",
          "height": 466
        },
        "id": "X0T5I4FJky3B",
        "outputId": "8b6a3ae2-3fe5-4785-a677-0afee04c904b"
      },
      "execution_count": 13,
      "outputs": [
        {
          "output_type": "execute_result",
          "data": {
            "text/plain": [
              "<sklearn.metrics._plot.confusion_matrix.ConfusionMatrixDisplay at 0x7e0f54d5ee30>"
            ]
          },
          "metadata": {},
          "execution_count": 13
        },
        {
          "output_type": "display_data",
          "data": {
            "text/plain": [
              "<Figure size 640x480 with 2 Axes>"
            ],
            "image/png": "[encoded data removed]"
          },
          "metadata": {}
        }
      ]
    },
    {
      "cell_type": "code",
      "source": [
        "X_test1 = X_test"
      ],
      "metadata": {
        "id": "lZPeOecjz7eb"
      },
      "execution_count": 14,
      "outputs": []
    },
    {
      "cell_type": "markdown",
      "source": [
        "# Using the predictions in the main dataset & Calculation for Anylogic input"
      ],
      "metadata": {
        "id": "jbLnh9Uq-wr5"
      }
    },
    {
      "cell_type": "code",
      "source": [
        "y_pred_df = pd.DataFrame(y_pred)\n",
        "# y_pred_df"
      ],
      "metadata": {
        "id": "qaPtyLkR0Pdf"
      },
      "execution_count": 15,
      "outputs": []
    },
    {
      "cell_type": "code",
      "source": [
        "data_1 = pd.DataFrame(data)\n",
        "# data_1"
      ],
      "metadata": {
        "id": "s680FrZ85v6d"
      },
      "execution_count": 16,
      "outputs": []
    },
    {
      "cell_type": "code",
      "source": [
        "y_pred_originalset = grid_clf.best_estimator_.predict(X)"
      ],
      "metadata": {
        "id": "TvSrBqBt5-0T"
      },
      "execution_count": 17,
      "outputs": []
    },
    {
      "cell_type": "code",
      "source": [
        "y_pred_originalset_df = pd.DataFrame(y_pred_originalset)"
      ],
      "metadata": {
        "id": "xXtwwVdP6QDk"
      },
      "execution_count": 18,
      "outputs": []
    },
    {
      "cell_type": "code",
      "source": [
        "y_pred_originalset_df = y_pred_originalset_df.rename(columns={0: 'bad_pred'})"
      ],
      "metadata": {
        "id": "UKO1J-K86WXl"
      },
      "execution_count": 19,
      "outputs": []
    },
    {
      "cell_type": "code",
      "source": [
        "data_1['bad_pred'] = y_pred_originalset_df['bad_pred']"
      ],
      "metadata": {
        "id": "g5fVSLTa65Rn"
      },
      "execution_count": 20,
      "outputs": []
    },
    {
      "cell_type": "code",
      "source": [
        "conditions = [\n",
        "    (data_1['bad_pred'] == 0) & (data_1['last'] == 'in'),\n",
        "    (data_1['bad_pred'] == 1) & (data_1['last'] == 'in'),\n",
        "    (data_1['bad_pred'] == 0) & (data_1['last'] == 'last'),\n",
        "    (data_1['bad_pred'] == 1) & (data_1['last'] == 'last')\n",
        "]"
      ],
      "metadata": {
        "id": "lk67w_Va7GPj"
      },
      "execution_count": 21,
      "outputs": []
    },
    {
      "cell_type": "code",
      "source": [
        "classifications = ['S&S', 'S&L', 'L&S', 'L&L']"
      ],
      "metadata": {
        "id": "YY6nC5XL7Z4H"
      },
      "execution_count": 22,
      "outputs": []
    },
    {
      "cell_type": "code",
      "source": [
        "data_1['classification'] = pd.Series(np.select(conditions, classifications, default='Unknown'))"
      ],
      "metadata": {
        "id": "CFBczSiI7b0V"
      },
      "execution_count": 23,
      "outputs": []
    },
    {
      "cell_type": "code",
      "source": [
        "data_1['dates'] = pd.to_datetime(data_1['dates'], format='%d/%m/%Y')"
      ],
      "metadata": {
        "id": "1sSo-6WX9J19"
      },
      "execution_count": 24,
      "outputs": []
    },
    {
      "cell_type": "code",
      "source": [
        "data_1[['bad_pred', 'last', 'classification']].head(10)"
      ],
      "metadata": {
        "colab": {
          "base_uri": "https://localhost:8080/",
          "height": 363
        },
        "id": "QuPw_s7f75At",
        "outputId": "0f542550-7898-4731-d4a1-8672f44bf19f"
      },
      "execution_count": 26,
      "outputs": [
        {
          "output_type": "execute_result",
          "data": {
            "text/plain": [
              "   bad_pred  last classification\n",
              "0         0    in            S&S\n",
              "1         0    in            S&S\n",
              "2         0    in            S&S\n",
              "3         1  last            L&L\n",
              "4         0    in            S&S\n",
              "5         0    in            S&S\n",
              "6         0    in            S&S\n",
              "7         1    in            S&L\n",
              "8         0    in            S&S\n",
              "9         0    in            S&S"
            ],
            "text/html": [
              "\n",
              "  <div id=\"df-b8efb4cc-cd6a-43c0-bddb-1bcb9078f173\" class=\"colab-df-container\">\n",
              "    <div>\n",
              "<style scoped>\n",
              "    .dataframe tbody tr th:only-of-type {\n",
              "        vertical-align: middle;\n",
              "    }\n",
              "\n",
              "    .dataframe tbody tr th {\n",
              "        vertical-align: top;\n",
              "    }\n",
              "\n",
              "    .dataframe thead th {\n",
              "        text-align: right;\n",
              "    }\n",
              "</style>\n",
              "<table border=\"1\" class=\"dataframe\">\n",
              "  <thead>\n",
              "    <tr style=\"text-align: right;\">\n",
              "      <th></th>\n",
              "      <th>bad_pred</th>\n",
              "      <th>last</th>\n",
              "      <th>classification</th>\n",
              "    </tr>\n",
              "  </thead>\n",
              "  <tbody>\n",
              "    <tr>\n",
              "      <th>0</th>\n",
              "      <td>0</td>\n",
              "      <td>in</td>\n",
              "      <td>S&amp;S</td>\n",
              "    </tr>\n",
              "    <tr>\n",
              "      <th>1</th>\n",
              "      <td>0</td>\n",
              "      <td>in</td>\n",
              "      <td>S&amp;S</td>\n",
              "    </tr>\n",
              "    <tr>\n",
              "      <th>2</th>\n",
              "      <td>0</td>\n",
              "      <td>in</td>\n",
              "      <td>S&amp;S</td>\n",
              "    </tr>\n",
              "    <tr>\n",
              "      <th>3</th>\n",
              "      <td>1</td>\n",
              "      <td>last</td>\n",
              "      <td>L&amp;L</td>\n",
              "    </tr>\n",
              "    <tr>\n",
              "      <th>4</th>\n",
              "      <td>0</td>\n",
              "      <td>in</td>\n",
              "      <td>S&amp;S</td>\n",
              "    </tr>\n",
              "    <tr>\n",
              "      <th>5</th>\n",
              "      <td>0</td>\n",
              "      <td>in</td>\n",
              "      <td>S&amp;S</td>\n",
              "    </tr>\n",
              "    <tr>\n",
              "      <th>6</th>\n",
              "      <td>0</td>\n",
              "      <td>in</td>\n",
              "      <td>S&amp;S</td>\n",
              "    </tr>\n",
              "    <tr>\n",
              "      <th>7</th>\n",
              "      <td>1</td>\n",
              "      <td>in</td>\n",
              "      <td>S&amp;L</td>\n",
              "    </tr>\n",
              "    <tr>\n",
              "      <th>8</th>\n",
              "      <td>0</td>\n",
              "      <td>in</td>\n",
              "      <td>S&amp;S</td>\n",
              "    </tr>\n",
              "    <tr>\n",
              "      <th>9</th>\n",
              "      <td>0</td>\n",
              "      <td>in</td>\n",
              "      <td>S&amp;S</td>\n",
              "    </tr>\n",
              "  </tbody>\n",
              "</table>\n",
              "</div>\n",
              "    <div class=\"colab-df-buttons\">\n",
              "\n",
              "  <div class=\"colab-df-container\">\n",
              "    <button class=\"colab-df-convert\" onclick=\"convertToInteractive('df-b8efb4cc-cd6a-43c0-bddb-1bcb9078f173')\"\n",
              "            title=\"Convert this dataframe to an interactive table.\"\n",
              "            style=\"display:none;\">\n",
              "\n",
              "  <svg xmlns=\"http://www.w3.org/2000/svg\" height=\"24px\" viewBox=\"0 -960 960 960\">\n",
              "    <path d=\"M120-120v-720h720v720H120Zm60-500h600v-160H180v160Zm220 220h160v-160H400v160Zm0 220h160v-160H400v160ZM180-400h160v-160H180v160Zm440 0h160v-160H620v160ZM180-180h160v-160H180v160Zm440 0h160v-160H620v160Z\"/>\n",
              "  </svg>\n",
              "    </button>\n",
              "\n",
              "  <style>\n",
              "    .colab-df-container {\n",
              "      display:flex;\n",
              "      gap: 12px;\n",
              "    }\n",
              "\n",
              "    .colab-df-convert {\n",
              "      background-color: #E8F0FE;\n",
              "      border: none;\n",
              "      border-radius: 50%;\n",
              "      cursor: pointer;\n",
              "      display: none;\n",
              "      fill: #1967D2;\n",
              "      height: 32px;\n",
              "      padding: 0 0 0 0;\n",
              "      width: 32px;\n",
              "    }\n",
              "\n",
              "    .colab-df-convert:hover {\n",
              "      background-color: #E2EBFA;\n",
              "      box-shadow: 0px 1px 2px rgba(60, 64, 67, 0.3), 0px 1px 3px 1px rgba(60, 64, 67, 0.15);\n",
              "      fill: #174EA6;\n",
              "    }\n",
              "\n",
              "    .colab-df-buttons div {\n",
              "      margin-bottom: 4px;\n",
              "    }\n",
              "\n",
              "    [theme=dark] .colab-df-convert {\n",
              "      background-color: #3B4455;\n",
              "      fill: #D2E3FC;\n",
              "    }\n",
              "\n",
              "    [theme=dark] .colab-df-convert:hover {\n",
              "      background-color: #434B5C;\n",
              "      box-shadow: 0px 1px 3px 1px rgba(0, 0, 0, 0.15);\n",
              "      filter: drop-shadow(0px 1px 2px rgba(0, 0, 0, 0.3));\n",
              "      fill: #FFFFFF;\n",
              "    }\n",
              "  </style>\n",
              "\n",
              "    <script>\n",
              "      const buttonEl =\n",
              "        document.querySelector('#df-b8efb4cc-cd6a-43c0-bddb-1bcb9078f173 button.colab-df-convert');\n",
              "      buttonEl.style.display =\n",
              "        google.colab.kernel.accessAllowed ? 'block' : 'none';\n",
              "\n",
              "      async function convertToInteractive(key) {\n",
              "        const element = document.querySelector('#df-b8efb4cc-cd6a-43c0-bddb-1bcb9078f173');\n",
              "        const dataTable =\n",
              "          await google.colab.kernel.invokeFunction('convertToInteractive',\n",
              "                                                    [key], {});\n",
              "        if (!dataTable) return;\n",
              "\n",
              "        const docLinkHtml = 'Like what you see? Visit the ' +\n",
              "          '<a target=\"_blank\" href=https://colab.research.google.com/notebooks/data_table.ipynb>data table notebook</a>'\n",
              "          + ' to learn more about interactive tables.';\n",
              "        element.innerHTML = '';\n",
              "        dataTable['output_type'] = 'display_data';\n",
              "        await google.colab.output.renderOutput(dataTable, element);\n",
              "        const docLink = document.createElement('div');\n",
              "        docLink.innerHTML = docLinkHtml;\n",
              "        element.appendChild(docLink);\n",
              "      }\n",
              "    </script>\n",
              "  </div>\n",
              "\n",
              "\n",
              "<div id=\"df-b48288d7-534e-43dc-9e4f-e17d4d778c28\">\n",
              "  <button class=\"colab-df-quickchart\" onclick=\"quickchart('df-b48288d7-534e-43dc-9e4f-e17d4d778c28')\"\n",
              "            title=\"Suggest charts\"\n",
              "            style=\"display:none;\">\n",
              "\n",
              "<svg xmlns=\"http://www.w3.org/2000/svg\" height=\"24px\"viewBox=\"0 0 24 24\"\n",
              "     width=\"24px\">\n",
              "    <g>\n",
              "        <path d=\"M19 3H5c-1.1 0-2 .9-2 2v14c0 1.1.9 2 2 2h14c1.1 0 2-.9 2-2V5c0-1.1-.9-2-2-2zM9 17H7v-7h2v7zm4 0h-2V7h2v10zm4 0h-2v-4h2v4z\"/>\n",
              "    </g>\n",
              "</svg>\n",
              "  </button>\n",
              "\n",
              "<style>\n",
              "  .colab-df-quickchart {\n",
              "      --bg-color: #E8F0FE;\n",
              "      --fill-color: #1967D2;\n",
              "      --hover-bg-color: #E2EBFA;\n",
              "      --hover-fill-color: #174EA6;\n",
              "      --disabled-fill-color: #AAA;\n",
              "      --disabled-bg-color: #DDD;\n",
              "  }\n",
              "\n",
              "  [theme=dark] .colab-df-quickchart {\n",
              "      --bg-color: #3B4455;\n",
              "      --fill-color: #D2E3FC;\n",
              "      --hover-bg-color: #434B5C;\n",
              "      --hover-fill-color: #FFFFFF;\n",
              "      --disabled-bg-color: #3B4455;\n",
              "      --disabled-fill-color: #666;\n",
              "  }\n",
              "\n",
              "  .colab-df-quickchart {\n",
              "    background-color: var(--bg-color);\n",
              "    border: none;\n",
              "    border-radius: 50%;\n",
              "    cursor: pointer;\n",
              "    display: none;\n",
              "    fill: var(--fill-color);\n",
              "    height: 32px;\n",
              "    padding: 0;\n",
              "    width: 32px;\n",
              "  }\n",
              "\n",
              "  .colab-df-quickchart:hover {\n",
              "    background-color: var(--hover-bg-color);\n",
              "    box-shadow: 0 1px 2px rgba(60, 64, 67, 0.3), 0 1px 3px 1px rgba(60, 64, 67, 0.15);\n",
              "    fill: var(--button-hover-fill-color);\n",
              "  }\n",
              "\n",
              "  .colab-df-quickchart-complete:disabled,\n",
              "  .colab-df-quickchart-complete:disabled:hover {\n",
              "    background-color: var(--disabled-bg-color);\n",
              "    fill: var(--disabled-fill-color);\n",
              "    box-shadow: none;\n",
              "  }\n",
              "\n",
              "  .colab-df-spinner {\n",
              "    border: 2px solid var(--fill-color);\n",
              "    border-color: transparent;\n",
              "    border-bottom-color: var(--fill-color);\n",
              "    animation:\n",
              "      spin 1s steps(1) infinite;\n",
              "  }\n",
              "\n",
              "  @keyframes spin {\n",
              "    0% {\n",
              "      border-color: transparent;\n",
              "      border-bottom-color: var(--fill-color);\n",
              "      border-left-color: var(--fill-color);\n",
              "    }\n",
              "    20% {\n",
              "      border-color: transparent;\n",
              "      border-left-color: var(--fill-color);\n",
              "      border-top-color: var(--fill-color);\n",
              "    }\n",
              "    30% {\n",
              "      border-color: transparent;\n",
              "      border-left-color: var(--fill-color);\n",
              "      border-top-color: var(--fill-color);\n",
              "      border-right-color: var(--fill-color);\n",
              "    }\n",
              "    40% {\n",
              "      border-color: transparent;\n",
              "      border-right-color: var(--fill-color);\n",
              "      border-top-color: var(--fill-color);\n",
              "    }\n",
              "    60% {\n",
              "      border-color: transparent;\n",
              "      border-right-color: var(--fill-color);\n",
              "    }\n",
              "    80% {\n",
              "      border-color: transparent;\n",
              "      border-right-color: var(--fill-color);\n",
              "      border-bottom-color: var(--fill-color);\n",
              "    }\n",
              "    90% {\n",
              "      border-color: transparent;\n",
              "      border-bottom-color: var(--fill-color);\n",
              "    }\n",
              "  }\n",
              "</style>\n",
              "\n",
              "  <script>\n",
              "    async function quickchart(key) {\n",
              "      const quickchartButtonEl =\n",
              "        document.querySelector('#' + key + ' button');\n",
              "      quickchartButtonEl.disabled = true;  // To prevent multiple clicks.\n",
              "      quickchartButtonEl.classList.add('colab-df-spinner');\n",
              "      try {\n",
              "        const charts = await google.colab.kernel.invokeFunction(\n",
              "            'suggestCharts', [key], {});\n",
              "      } catch (error) {\n",
              "        console.error('Error during call to suggestCharts:', error);\n",
              "      }\n",
              "      quickchartButtonEl.classList.remove('colab-df-spinner');\n",
              "      quickchartButtonEl.classList.add('colab-df-quickchart-complete');\n",
              "    }\n",
              "    (() => {\n",
              "      let quickchartButtonEl =\n",
              "        document.querySelector('#df-b48288d7-534e-43dc-9e4f-e17d4d778c28 button');\n",
              "      quickchartButtonEl.style.display =\n",
              "        google.colab.kernel.accessAllowed ? 'block' : 'none';\n",
              "    })();\n",
              "  </script>\n",
              "</div>\n",
              "    </div>\n",
              "  </div>\n"
            ],
            "application/vnd.google.colaboratory.intrinsic+json": {
              "type": "dataframe",
              "summary": "{\n  \"name\": \"data_1[['bad_pred', 'last', 'classification']]\",\n  \"rows\": 10,\n  \"fields\": [\n    {\n      \"column\": \"bad_pred\",\n      \"properties\": {\n        \"dtype\": \"number\",\n        \"std\": 0,\n        \"min\": 0,\n        \"max\": 1,\n        \"num_unique_values\": 2,\n        \"samples\": [\n          1,\n          0\n        ],\n        \"semantic_type\": \"\",\n        \"description\": \"\"\n      }\n    },\n    {\n      \"column\": \"last\",\n      \"properties\": {\n        \"dtype\": \"category\",\n        \"num_unique_values\": 2,\n        \"samples\": [\n          \"last\",\n          \"in\"\n        ],\n        \"semantic_type\": \"\",\n        \"description\": \"\"\n      }\n    },\n    {\n      \"column\": \"classification\",\n      \"properties\": {\n        \"dtype\": \"category\",\n        \"num_unique_values\": 3,\n        \"samples\": [\n          \"S&S\",\n          \"L&L\"\n        ],\n        \"semantic_type\": \"\",\n        \"description\": \"\"\n      }\n    }\n  ]\n}"
            }
          },
          "metadata": {},
          "execution_count": 26
        }
      ]
    },
    {
      "cell_type": "code",
      "source": [
        "daily_counts = data_1.groupby([data_1['dates'].dt.normalize(), 'classification']).size().unstack(fill_value=0)\n"
      ],
      "metadata": {
        "id": "bHhXELsG9ZQ-"
      },
      "execution_count": 27,
      "outputs": []
    },
    {
      "cell_type": "code",
      "source": [
        "daily_in = daily_counts[['S&S', 'S&L']].sum(axis=1)\n",
        "daily_out = daily_counts[['L&S', 'L&L']].sum(axis=1)"
      ],
      "metadata": {
        "id": "wqdnv-R197Zq"
      },
      "execution_count": 28,
      "outputs": []
    },
    {
      "cell_type": "code",
      "source": [
        "average_in_rate = daily_in.mean()\n",
        "average_out_rate = daily_out.mean()\n",
        "\n",
        "average_in_rate.round(2), average_out_rate.round(2)"
      ],
      "metadata": {
        "colab": {
          "base_uri": "https://localhost:8080/"
        },
        "id": "2Cd5vtlu995P",
        "outputId": "7177e047-1cdc-4123-e325-335a5db8ba18"
      },
      "execution_count": 29,
      "outputs": [
        {
          "output_type": "execute_result",
          "data": {
            "text/plain": [
              "(7.37, 1.16)"
            ]
          },
          "metadata": {},
          "execution_count": 29
        }
      ]
    },
    {
      "cell_type": "markdown",
      "source": [
        "# Using Multi-layer ANN to optimize the confusion matrix & Classification Report"
      ],
      "metadata": {
        "id": "EaIWgBLo_At0"
      }
    },
    {
      "cell_type": "code",
      "source": [
        "# import libraries\n",
        "import torch\n",
        "import numpy as np\n",
        "import pandas as pd\n",
        "import matplotlib.pyplot as plt\n",
        "\n",
        "from sklearn import datasets\n",
        "from sklearn.metrics import classification_report\n",
        "from sklearn.preprocessing import StandardScaler\n",
        "from sklearn.model_selection import train_test_split\n",
        "\n",
        "from torch import nn\n",
        "from torch.utils.data import TensorDataset, DataLoader"
      ],
      "metadata": {
        "id": "wfx8p2p61uou"
      },
      "execution_count": 30,
      "outputs": []
    },
    {
      "cell_type": "code",
      "source": [
        "X_test_res_array = pd.DataFrame(X_test_res).values"
      ],
      "metadata": {
        "id": "nbcIYMeG5QfV"
      },
      "execution_count": 31,
      "outputs": []
    },
    {
      "cell_type": "code",
      "source": [
        "# feature scaling\n",
        "scaler = StandardScaler()\n",
        "scaled_feature = scaler.fit_transform(X_test_res_array)"
      ],
      "metadata": {
        "id": "x8SiFFl-x4gG"
      },
      "execution_count": 32,
      "outputs": []
    },
    {
      "cell_type": "code",
      "source": [
        "# Split the dataset into train, validation, and test sets\n",
        "train_val_feature, test_feature, train_val_label, test_label = train_test_split(\n",
        "    scaled_feature, y_test_res, test_size = 0.2, random_state = 0\n",
        ")\n",
        "train_feature, val_feature, train_label, val_label = train_test_split(\n",
        "    train_val_feature, train_val_label, test_size = 0.25, random_state = 0\n",
        ")"
      ],
      "metadata": {
        "id": "1mMkuJDK2ALN"
      },
      "execution_count": 33,
      "outputs": []
    },
    {
      "cell_type": "code",
      "source": [
        "val_label = pd.Series(val_label).values"
      ],
      "metadata": {
        "id": "uGXiH-XM537L"
      },
      "execution_count": 34,
      "outputs": []
    },
    {
      "cell_type": "code",
      "source": [
        "test_label = pd.Series(test_label).values"
      ],
      "metadata": {
        "id": "vXBVqEM017ol"
      },
      "execution_count": 35,
      "outputs": []
    },
    {
      "cell_type": "code",
      "source": [
        "#Train, validation, and test\n",
        "\n",
        "train_ds = TensorDataset(\n",
        "    torch.tensor(train_feature, dtype = torch.float32),\n",
        "    torch.tensor(train_label, dtype = torch.float32)\n",
        ")\n",
        "val_ds = TensorDataset(\n",
        "    torch.tensor(val_feature, dtype = torch.float32),\n",
        "    torch.tensor(val_label, dtype = torch.float32)\n",
        ")\n",
        "test_ds = TensorDataset(\n",
        "    torch.tensor(test_feature, dtype = torch.float32),\n",
        "    torch.tensor(test_label, dtype = torch.float32)\n",
        ")"
      ],
      "metadata": {
        "id": "2zmf89y714Mj"
      },
      "execution_count": 36,
      "outputs": []
    },
    {
      "cell_type": "code",
      "source": [
        "# create the train and test data loaders\n",
        "batch_size = 64 # usually set to 2 to the nth power\n",
        "train_dl = DataLoader(train_ds, batch_size = batch_size, shuffle = True)\n",
        "val_dl = DataLoader(val_ds, batch_size = batch_size, shuffle = False)\n",
        "test_dl = DataLoader(test_ds, batch_size = batch_size, shuffle = False)"
      ],
      "metadata": {
        "id": "maES1Dge2CNo"
      },
      "execution_count": 37,
      "outputs": []
    },
    {
      "cell_type": "code",
      "source": [
        "# define a custom neural network class\n",
        "class BinaryClassificationNet(nn.Module):\n",
        "    def __init__(self, n_features):\n",
        "        super().__init__()\n",
        "        self.net = nn.Sequential(\n",
        "            nn.Linear(n_features, 16),\n",
        "            nn.ReLU(),\n",
        "            nn.Linear(16, 8),\n",
        "            nn.ReLU(),\n",
        "            nn.Linear(8, 4),\n",
        "            nn.ReLU(),\n",
        "            nn.Linear(4, 1),\n",
        "            nn.Sigmoid()\n",
        "        )\n",
        "    def forward(self, X):\n",
        "        return self.net(X)"
      ],
      "metadata": {
        "id": "mj6l4C7Z2JgX"
      },
      "execution_count": 38,
      "outputs": []
    },
    {
      "cell_type": "code",
      "source": [
        "# model = LogisticRegressionNet(n_features = X_test_res_array.shape[1])\n",
        "model = BinaryClassificationNet(n_features = X_test_res_array.shape[1])"
      ],
      "metadata": {
        "id": "jtdDm3Go2Yc5"
      },
      "execution_count": 39,
      "outputs": []
    },
    {
      "cell_type": "code",
      "source": [
        "# define the training function\n",
        "def train(train_dl, val_dl, model, loss_fn, optimizer, epochs, early_stopping_patience, lr_scheduler):\n",
        "    # initialization\n",
        "    min_val_loss = np.inf # initialize the val loss as an infinite positive value\n",
        "    patience_counter = 0 # set the initial patience counter to zero\n",
        "    train_batch_loss_history = [] # for recording the average train loss of a batch\n",
        "    train_epoch_loss_history = [] # for recording the average train loss of an epoch\n",
        "    val_batch_loss_history = [] # for recording the average val loss of an batch\n",
        "    val_epoch_loss_history = [] # for recording the average val loss of an epoch\n",
        "\n",
        "    # start training\n",
        "    for epoch in range(epochs): # iterate pre-defined number of epoches\n",
        "        # train set\n",
        "        train_epoch_loss = 0.0 # initial train epoch loss is set to zero\n",
        "        model.train() # set the model in training mode\n",
        "        for (X, y) in train_dl: # get a batch of training samples\n",
        "            prob = model(X).squeeze() # make predictions, squeeze() reduce `prob` to 1D tensor\n",
        "            train_batch_loss = loss_fn(prob, y) # compute the current train batch loss\n",
        "            train_batch_loss.backward() # compute gradients by backpropagation\n",
        "            optimizer.step() # update learning parameters according to gradients\n",
        "            optimizer.zero_grad() # reset the gradients to zero\n",
        "            train_batch_loss_history.append(train_batch_loss.item()) # record current train batch loss\n",
        "            train_epoch_loss += train_batch_loss.item() # accumulate train batch losses for compute train epoch loss\n",
        "        train_epoch_loss /= len(train_dl) # compute current train epoch loss\n",
        "        train_epoch_loss_history.append(train_epoch_loss) # record current train epoch loss\n",
        "        # validation set\n",
        "        val_epoch_loss = 0.0 # initial val epoch loss is set to zero\n",
        "        model.eval() # set the model in evaluation mode\n",
        "        with torch.no_grad():\n",
        "            for (X, y) in val_dl: # get a batch of validation samples\n",
        "                prob = model(X).squeeze() # make predictions, squeeze() reduce `prob` to 1D tensor\n",
        "                val_batch_loss = loss_fn(prob, y) # compute the current val batch loss\n",
        "                val_batch_loss_history.append(val_batch_loss.item()) # record current val batch loss\n",
        "                val_epoch_loss += val_batch_loss.item() # accumulate val batch losses for compute val epoch loss\n",
        "            val_epoch_loss /= len(val_dl) # compute current val epoch loss\n",
        "            val_epoch_loss_history.append(val_epoch_loss) # record current val epoch loss\n",
        "        print(f\"Epoch {epoch + 1}: train loss = {train_epoch_loss:>5f}, val loss = {val_epoch_loss:>5f}\") # print log\n",
        "        # learning rate decay\n",
        "        old_lr = optimizer.param_groups[0]['lr']\n",
        "        lr_scheduler.step(val_epoch_loss)\n",
        "        new_lr = optimizer.param_groups[0]['lr']\n",
        "        if old_lr != new_lr:\n",
        "            print(f'Learning rate reduced after epoch {epoch+1}')\n",
        "        # early stopping\n",
        "        if val_epoch_loss < min_val_loss:\n",
        "            min_val_loss = val_epoch_loss # update the new min val loss\n",
        "            patience_counter = 0 # reset patience counter to zero\n",
        "        else:\n",
        "            patience_counter += 1 # increase patience counter by 1\n",
        "        if patience_counter >= early_stopping_patience:\n",
        "            print('Early stopping!')\n",
        "            break\n",
        "    return train_batch_loss_history, val_batch_loss_history, train_epoch_loss_history, val_epoch_loss_history"
      ],
      "metadata": {
        "id": "kNkGc-QQ2o_K"
      },
      "execution_count": 40,
      "outputs": []
    },
    {
      "cell_type": "code",
      "source": [
        "# define the training hyper-parameters\n",
        "loss_fn = nn.BCELoss() # binary cross entropy loss\n",
        "learning_rate = 1e-1\n",
        "weight_decay = 1e-5 # lambda for L2 regularization\n",
        "optimizer = torch.optim.SGD(\n",
        "    model.parameters(),\n",
        "    lr = learning_rate,\n",
        "    weight_decay = weight_decay\n",
        ")\n",
        "epochs = 1000\n",
        "early_stopping_patience = 20\n",
        "lr_scheduler = torch.optim.lr_scheduler.ReduceLROnPlateau(\n",
        "    optimizer,\n",
        "    mode = 'min',\n",
        "    factor = 0.1, # each step multiply the learning rate with 0.1\n",
        "    patience = 5\n",
        ")"
      ],
      "metadata": {
        "id": "pSnvgtWp2rLG"
      },
      "execution_count": 41,
      "outputs": []
    },
    {
      "cell_type": "code",
      "source": [
        "train_batch_loss_history, val_batch_loss_history, train_epoch_loss_history, val_epoch_loss_history = train(\n",
        "    train_dl,\n",
        "    val_dl,\n",
        "    model,\n",
        "    loss_fn,\n",
        "    optimizer,\n",
        "    epochs,\n",
        "    early_stopping_patience,\n",
        "    lr_scheduler\n",
        ")"
      ],
      "metadata": {
        "colab": {
          "base_uri": "https://localhost:8080/"
        },
        "id": "RmC5jO3Z2ugn",
        "outputId": "ab79ec0c-efc4-4410-8810-c8131c71c2e5"
      },
      "execution_count": 42,
      "outputs": [
        {
          "output_type": "stream",
          "name": "stdout",
          "text": [
            "Epoch 1: train loss = 0.691288, val loss = 0.689639\n",
            "Epoch 2: train loss = 0.689492, val loss = 0.686750\n",
            "Epoch 3: train loss = 0.687095, val loss = 0.683844\n",
            "Epoch 4: train loss = 0.683690, val loss = 0.679679\n",
            "Epoch 5: train loss = 0.679560, val loss = 0.672899\n",
            "Epoch 6: train loss = 0.670636, val loss = 0.660015\n",
            "Epoch 7: train loss = 0.654054, val loss = 0.638402\n",
            "Epoch 8: train loss = 0.634288, val loss = 0.613252\n",
            "Epoch 9: train loss = 0.605116, val loss = 0.584237\n",
            "Epoch 10: train loss = 0.575319, val loss = 0.563566\n",
            "Epoch 11: train loss = 0.555518, val loss = 0.549189\n",
            "Epoch 12: train loss = 0.537617, val loss = 0.536787\n",
            "Epoch 13: train loss = 0.525915, val loss = 0.530198\n",
            "Epoch 14: train loss = 0.522867, val loss = 0.526667\n",
            "Epoch 15: train loss = 0.510638, val loss = 0.522966\n",
            "Epoch 16: train loss = 0.505243, val loss = 0.518727\n",
            "Epoch 17: train loss = 0.504848, val loss = 0.517005\n",
            "Epoch 18: train loss = 0.492788, val loss = 0.515337\n",
            "Epoch 19: train loss = 0.496745, val loss = 0.509393\n",
            "Epoch 20: train loss = 0.491289, val loss = 0.507823\n",
            "Epoch 21: train loss = 0.495905, val loss = 0.520416\n",
            "Epoch 22: train loss = 0.490500, val loss = 0.516459\n",
            "Epoch 23: train loss = 0.500119, val loss = 0.512430\n",
            "Epoch 24: train loss = 0.481781, val loss = 0.503297\n",
            "Epoch 25: train loss = 0.477147, val loss = 0.502953\n",
            "Epoch 26: train loss = 0.478726, val loss = 0.501592\n",
            "Epoch 27: train loss = 0.473550, val loss = 0.498587\n",
            "Epoch 28: train loss = 0.468449, val loss = 0.494090\n",
            "Epoch 29: train loss = 0.471496, val loss = 0.499710\n",
            "Epoch 30: train loss = 0.464118, val loss = 0.487012\n",
            "Epoch 31: train loss = 0.473003, val loss = 0.487150\n",
            "Epoch 32: train loss = 0.462461, val loss = 0.488998\n",
            "Epoch 33: train loss = 0.462546, val loss = 0.486493\n",
            "Epoch 34: train loss = 0.458406, val loss = 0.507110\n",
            "Epoch 35: train loss = 0.461674, val loss = 0.476528\n",
            "Epoch 36: train loss = 0.453606, val loss = 0.491059\n",
            "Epoch 37: train loss = 0.444514, val loss = 0.488754\n",
            "Epoch 38: train loss = 0.444309, val loss = 0.477433\n",
            "Epoch 39: train loss = 0.438938, val loss = 0.474887\n",
            "Epoch 40: train loss = 0.434131, val loss = 0.475367\n",
            "Epoch 41: train loss = 0.436625, val loss = 0.481290\n",
            "Epoch 42: train loss = 0.430487, val loss = 0.475998\n",
            "Epoch 43: train loss = 0.435690, val loss = 0.470548\n",
            "Epoch 44: train loss = 0.433122, val loss = 0.467458\n",
            "Epoch 45: train loss = 0.437085, val loss = 0.460326\n",
            "Epoch 46: train loss = 0.423823, val loss = 0.478170\n",
            "Epoch 47: train loss = 0.429178, val loss = 0.464362\n",
            "Epoch 48: train loss = 0.424967, val loss = 0.458404\n",
            "Epoch 49: train loss = 0.418018, val loss = 0.460177\n",
            "Epoch 50: train loss = 0.419377, val loss = 0.457875\n",
            "Epoch 51: train loss = 0.415089, val loss = 0.463955\n",
            "Epoch 52: train loss = 0.408703, val loss = 0.459333\n",
            "Epoch 53: train loss = 0.409806, val loss = 0.465056\n",
            "Epoch 54: train loss = 0.414103, val loss = 0.473249\n",
            "Epoch 55: train loss = 0.410642, val loss = 0.453114\n",
            "Epoch 56: train loss = 0.403645, val loss = 0.490540\n",
            "Epoch 57: train loss = 0.414336, val loss = 0.452662\n",
            "Epoch 58: train loss = 0.400454, val loss = 0.461824\n",
            "Epoch 59: train loss = 0.415028, val loss = 0.589319\n",
            "Epoch 60: train loss = 0.405287, val loss = 0.446879\n",
            "Epoch 61: train loss = 0.404760, val loss = 0.456512\n",
            "Epoch 62: train loss = 0.394961, val loss = 0.449401\n",
            "Epoch 63: train loss = 0.413712, val loss = 0.513768\n",
            "Epoch 64: train loss = 0.407129, val loss = 0.491134\n",
            "Epoch 65: train loss = 0.403304, val loss = 0.469485\n",
            "Epoch 66: train loss = 0.409574, val loss = 0.451250\n",
            "Learning rate reduced after epoch 66\n",
            "Epoch 67: train loss = 0.394039, val loss = 0.443097\n",
            "Epoch 68: train loss = 0.380739, val loss = 0.441153\n",
            "Epoch 69: train loss = 0.389545, val loss = 0.440443\n",
            "Epoch 70: train loss = 0.383727, val loss = 0.439471\n",
            "Epoch 71: train loss = 0.374468, val loss = 0.439331\n",
            "Epoch 72: train loss = 0.379294, val loss = 0.439407\n",
            "Epoch 73: train loss = 0.387994, val loss = 0.439268\n",
            "Epoch 74: train loss = 0.388453, val loss = 0.438673\n",
            "Epoch 75: train loss = 0.383150, val loss = 0.438220\n",
            "Epoch 76: train loss = 0.375102, val loss = 0.437684\n",
            "Epoch 77: train loss = 0.373237, val loss = 0.437473\n",
            "Epoch 78: train loss = 0.383605, val loss = 0.437231\n",
            "Epoch 79: train loss = 0.377687, val loss = 0.437950\n",
            "Epoch 80: train loss = 0.375159, val loss = 0.438147\n",
            "Epoch 81: train loss = 0.377598, val loss = 0.437793\n",
            "Epoch 82: train loss = 0.393621, val loss = 0.436675\n",
            "Epoch 83: train loss = 0.390430, val loss = 0.438393\n",
            "Epoch 84: train loss = 0.369596, val loss = 0.437621\n",
            "Epoch 85: train loss = 0.371586, val loss = 0.437937\n",
            "Epoch 86: train loss = 0.386764, val loss = 0.439262\n",
            "Epoch 87: train loss = 0.368452, val loss = 0.436628\n",
            "Epoch 88: train loss = 0.374871, val loss = 0.436508\n",
            "Epoch 89: train loss = 0.374172, val loss = 0.435895\n",
            "Epoch 90: train loss = 0.369732, val loss = 0.436115\n",
            "Epoch 91: train loss = 0.380442, val loss = 0.435787\n",
            "Epoch 92: train loss = 0.378790, val loss = 0.436440\n",
            "Epoch 93: train loss = 0.377627, val loss = 0.435381\n",
            "Epoch 94: train loss = 0.369533, val loss = 0.434959\n",
            "Epoch 95: train loss = 0.392621, val loss = 0.433773\n",
            "Epoch 96: train loss = 0.369684, val loss = 0.433886\n",
            "Epoch 97: train loss = 0.366143, val loss = 0.434207\n",
            "Epoch 98: train loss = 0.367355, val loss = 0.434238\n",
            "Epoch 99: train loss = 0.378041, val loss = 0.433787\n",
            "Epoch 100: train loss = 0.366593, val loss = 0.433659\n",
            "Epoch 101: train loss = 0.378716, val loss = 0.434088\n",
            "Epoch 102: train loss = 0.374845, val loss = 0.434161\n",
            "Epoch 103: train loss = 0.364919, val loss = 0.433852\n",
            "Epoch 104: train loss = 0.379621, val loss = 0.433584\n",
            "Epoch 105: train loss = 0.370465, val loss = 0.433680\n",
            "Epoch 106: train loss = 0.374465, val loss = 0.433410\n",
            "Epoch 107: train loss = 0.373205, val loss = 0.433336\n",
            "Epoch 108: train loss = 0.367166, val loss = 0.433573\n",
            "Epoch 109: train loss = 0.365432, val loss = 0.434079\n",
            "Epoch 110: train loss = 0.369443, val loss = 0.433779\n",
            "Epoch 111: train loss = 0.380381, val loss = 0.434374\n",
            "Epoch 112: train loss = 0.369712, val loss = 0.434060\n",
            "Epoch 113: train loss = 0.364522, val loss = 0.434458\n",
            "Learning rate reduced after epoch 113\n",
            "Epoch 114: train loss = 0.371327, val loss = 0.434033\n",
            "Epoch 115: train loss = 0.368809, val loss = 0.433901\n",
            "Epoch 116: train loss = 0.367848, val loss = 0.433832\n",
            "Epoch 117: train loss = 0.370690, val loss = 0.433741\n",
            "Epoch 118: train loss = 0.374471, val loss = 0.433641\n",
            "Epoch 119: train loss = 0.363063, val loss = 0.433627\n",
            "Learning rate reduced after epoch 119\n",
            "Epoch 120: train loss = 0.365812, val loss = 0.433622\n",
            "Epoch 121: train loss = 0.365001, val loss = 0.433619\n",
            "Epoch 122: train loss = 0.365692, val loss = 0.433613\n",
            "Epoch 123: train loss = 0.371631, val loss = 0.433605\n",
            "Epoch 124: train loss = 0.363343, val loss = 0.433604\n",
            "Epoch 125: train loss = 0.365511, val loss = 0.433603\n",
            "Learning rate reduced after epoch 125\n",
            "Epoch 126: train loss = 0.375271, val loss = 0.433602\n",
            "Epoch 127: train loss = 0.361154, val loss = 0.433601\n",
            "Early stopping!\n"
          ]
        }
      ]
    },
    {
      "cell_type": "code",
      "source": [
        "# plot the train loss history\n",
        "plt.figure()\n",
        "batch = np.arange(len(train_batch_loss_history))\n",
        "epoch = np.arange(len(train_epoch_loss_history))\n",
        "batches_per_epoch = (int(len(train_feature) / batch_size + 1))\n",
        "plt.plot(batch, train_batch_loss_history, '-', label = 'batch loss')\n",
        "plt.plot(epoch * batches_per_epoch, train_epoch_loss_history, '-', label = 'epoch loss')\n",
        "plt.title('train loss history')\n",
        "plt.xlabel('batch')\n",
        "plt.ylabel('train loss')\n",
        "plt.legend()\n",
        "plt.show()"
      ],
      "metadata": {
        "colab": {
          "base_uri": "https://localhost:8080/",
          "height": 472
        },
        "id": "qfvJ5hCR2ySo",
        "outputId": "206d97ea-be19-4ae7-c27a-be7b380517e2"
      },
      "execution_count": 43,
      "outputs": [
        {
          "output_type": "display_data",
          "data": {
            "text/plain": [
              "<Figure size 640x480 with 1 Axes>"
            ],
            "image/png": "[encoded data removed]"
          },
          "metadata": {}
        }
      ]
    },
    {
      "cell_type": "code",
      "source": [
        "# plot the val loss history\n",
        "plt.figure()\n",
        "batch = np.arange(len(val_batch_loss_history))\n",
        "epoch = np.arange(len(val_epoch_loss_history))\n",
        "batches_per_epoch = (int(len(val_feature) / batch_size + 1))\n",
        "plt.plot(batch, val_batch_loss_history, '-', label = 'batch loss')\n",
        "plt.plot(epoch * batches_per_epoch, val_epoch_loss_history, '-', label = 'epoch loss')\n",
        "plt.title('validation loss history')\n",
        "plt.xlabel('batch')\n",
        "plt.ylabel('val loss')\n",
        "plt.legend()\n",
        "plt.show()"
      ],
      "metadata": {
        "colab": {
          "base_uri": "https://localhost:8080/",
          "height": 472
        },
        "id": "iP6VZ9NM21Ya",
        "outputId": "da73d08e-7581-4101-e406-d1d5be7ccc1f"
      },
      "execution_count": 44,
      "outputs": [
        {
          "output_type": "display_data",
          "data": {
            "text/plain": [
              "<Figure size 640x480 with 1 Axes>"
            ],
            "image/png": "[encoded data removed]"
          },
          "metadata": {}
        }
      ]
    },
    {
      "cell_type": "code",
      "source": [
        "# plot the train vs. val loss history\n",
        "plt.figure()\n",
        "plt.plot(np.arange(len(train_epoch_loss_history)), train_epoch_loss_history, '-', label = 'train loss')\n",
        "plt.plot(np.arange(len(val_epoch_loss_history)), val_epoch_loss_history, '-', label = 'val loss')\n",
        "plt.title('train vs. validation loss history')\n",
        "plt.xlabel('epoch')\n",
        "plt.ylabel('loss')\n",
        "plt.legend()\n",
        "plt.show()"
      ],
      "metadata": {
        "colab": {
          "base_uri": "https://localhost:8080/",
          "height": 472
        },
        "id": "0-kanTez24BN",
        "outputId": "2f0824cf-aeda-4791-9c38-63e7ca7e549a"
      },
      "execution_count": 45,
      "outputs": [
        {
          "output_type": "display_data",
          "data": {
            "text/plain": [
              "<Figure size 640x480 with 1 Axes>"
            ],
            "image/png": "[encoded data removed]"
          },
          "metadata": {}
        }
      ]
    },
    {
      "cell_type": "code",
      "source": [
        "# save model\n",
        "file_name = 'Binary_classification.pth'\n",
        "torch.save(model.state_dict(), file_name)\n",
        "print('Saved PyTorch Model State to '+ file_name)"
      ],
      "metadata": {
        "colab": {
          "base_uri": "https://localhost:8080/"
        },
        "id": "XKOS0VMc3o-2",
        "outputId": "198dae84-45dc-44c1-9693-b7a7be0e9b3f"
      },
      "execution_count": 46,
      "outputs": [
        {
          "output_type": "stream",
          "name": "stdout",
          "text": [
            "Saved PyTorch Model State to Binary_classification.pth\n"
          ]
        }
      ]
    },
    {
      "cell_type": "code",
      "source": [
        "# load model\n",
        "model = BinaryClassificationNet(n_features = X_test_res_array.shape[1])\n",
        "model.load_state_dict(torch.load(file_name))"
      ],
      "metadata": {
        "colab": {
          "base_uri": "https://localhost:8080/"
        },
        "id": "aDf5Qwot3-Nh",
        "outputId": "1fe7e635-26bd-4712-c028-c4d4f6cb19e0"
      },
      "execution_count": 47,
      "outputs": [
        {
          "output_type": "execute_result",
          "data": {
            "text/plain": [
              "<All keys matched successfully>"
            ]
          },
          "metadata": {},
          "execution_count": 47
        }
      ]
    },
    {
      "cell_type": "code",
      "source": [
        "# define a function to make predictions on test dataset and evaluate the performance\n",
        "def test(dataloader, model, loss_fn):\n",
        "    batch_prob_list = [] # for recording batch predictions\n",
        "    model.eval() # set the model in evaluation mode\n",
        "    with torch.no_grad(): # disable automatic gradient computing\n",
        "        loss = 0.0 # set initial test loss to zero\n",
        "        for (X, y) in dataloader: # get a batch from test samples\n",
        "            batch_prob = model(X).squeeze() # make predictions, squeeze() reduce `batch_prob` to 1D tensor\n",
        "            batch_loss = loss_fn(batch_prob, y) # compute current batch loss\n",
        "            loss += batch_loss.item() # accumulate batch losses for compute test loss\n",
        "            batch_prob_list.append(batch_prob) # record predictions on current batch\n",
        "        loss /= len(dataloader) # compute test loss\n",
        "        prob = np.concatenate(batch_prob_list) # reform the predictions as a numpy 1D array\n",
        "        print(f\"test loss = {loss}\") # print log\n",
        "    return prob, loss"
      ],
      "metadata": {
        "id": "y0DflKOp3uAL"
      },
      "execution_count": 48,
      "outputs": []
    },
    {
      "cell_type": "code",
      "source": [
        "# make prediction on test set and evaluate the performance\n",
        "test_prob, test_loss = test(test_dl, model, loss_fn)"
      ],
      "metadata": {
        "colab": {
          "base_uri": "https://localhost:8080/"
        },
        "id": "BM5VD4Ge4IBU",
        "outputId": "70fb1d7e-0ad7-4c35-b22d-fcc57b4ea6d9"
      },
      "execution_count": 49,
      "outputs": [
        {
          "output_type": "stream",
          "name": "stdout",
          "text": [
            "test loss = 0.49082379255975994\n"
          ]
        }
      ]
    },
    {
      "cell_type": "code",
      "source": [
        "from sklearn.metrics import roc_curve, auc\n",
        "\n",
        "# Calculate ROC curve\n",
        "fpr, tpr, thresholds = roc_curve(test_label, test_prob)\n",
        "roc_auc = auc(fpr, tpr)\n",
        "\n",
        "# Find the optimal threshold\n",
        "optimal_idx = np.argmax(tpr - fpr)\n",
        "optimal_threshold = thresholds[optimal_idx]\n",
        "\n",
        "# Convert probability to predicted class using the optimal threshold\n",
        "test_pred = (test_prob > optimal_threshold)"
      ],
      "metadata": {
        "id": "JChBXLg-5xAn"
      },
      "execution_count": 50,
      "outputs": []
    },
    {
      "cell_type": "code",
      "source": [
        "print(\"Optimal Threshold:\", optimal_threshold)"
      ],
      "metadata": {
        "colab": {
          "base_uri": "https://localhost:8080/"
        },
        "id": "ONsRc8dC55-1",
        "outputId": "658987e2-574e-4c3f-c693-9b2f6f767d0e"
      },
      "execution_count": 51,
      "outputs": [
        {
          "output_type": "stream",
          "name": "stdout",
          "text": [
            "Optimal Threshold: 0.3506654\n"
          ]
        }
      ]
    },
    {
      "cell_type": "code",
      "source": [
        "test_pred = (test_prob > optimal_threshold) # convert the probability to predicted class by a threshold\n",
        "print(classification_report(test_label, test_pred))"
      ],
      "metadata": {
        "colab": {
          "base_uri": "https://localhost:8080/"
        },
        "id": "KxNzhmEI5vcL",
        "outputId": "942a89e2-734b-4fd9-b1c1-28d8365801b1"
      },
      "execution_count": 52,
      "outputs": [
        {
          "output_type": "stream",
          "name": "stdout",
          "text": [
            "              precision    recall  f1-score   support\n",
            "\n",
            "           0       0.89      0.69      0.78       218\n",
            "           1       0.74      0.92      0.82       214\n",
            "\n",
            "    accuracy                           0.80       432\n",
            "   macro avg       0.82      0.80      0.80       432\n",
            "weighted avg       0.82      0.80      0.80       432\n",
            "\n"
          ]
        }
      ]
    },
    {
      "cell_type": "code",
      "source": [
        "#Confusion Matrix\n",
        "cm = confusion_matrix(test_label, test_pred)\n",
        "ConfusionMatrixDisplay(confusion_matrix=cm, display_labels=[0,1]).plot(values_format='d', cmap=\"Blues\")"
      ],
      "metadata": {
        "colab": {
          "base_uri": "https://localhost:8080/",
          "height": 466
        },
        "id": "r3qo72RA4jIk",
        "outputId": "9a731e80-b2fd-417a-c666-3a709fa4193f"
      },
      "execution_count": 53,
      "outputs": [
        {
          "output_type": "execute_result",
          "data": {
            "text/plain": [
              "<sklearn.metrics._plot.confusion_matrix.ConfusionMatrixDisplay at 0x7e0f54cff940>"
            ]
          },
          "metadata": {},
          "execution_count": 53
        },
        {
          "output_type": "display_data",
          "data": {
            "text/plain": [
              "<Figure size 640x480 with 2 Axes>"
            ],
            "image/png": "[encoded data removed]"
          },
          "metadata": {}
        }
      ]
    }
  ]
}