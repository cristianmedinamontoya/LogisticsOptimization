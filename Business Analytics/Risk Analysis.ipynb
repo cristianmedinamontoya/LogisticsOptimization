{
 "cells": [
  {
   "cell_type": "markdown",
   "metadata": {},
   "source": [
    "## 1. VaR (Value at Risk)\n",
    "La VaR mesure le risque de perte sur un portefeuille d'actifs financiers. Pour un niveau de confiance donné, elle indique le montant maximal de perte possible sur une période donnée.\n",
    "\n",
    "Exemple en Python (calcul de la VaR d'un portefeuille simple) :"
   ]
  },
  {
   "cell_type": "code",
   "execution_count": 1,
   "metadata": {},
   "outputs": [
    {
     "name": "stdout",
     "output_type": "stream",
     "text": [
      "VaR à 95.0% de niveau de confiance : -0.07224268134757363\n"
     ]
    }
   ],
   "source": [
    "import numpy as np\n",
    "import scipy.stats as stats\n",
    "\n",
    "# Supposons que le rendement du portefeuille suit une distribution normale\n",
    "rendement_moyen = 0.01  # Moyenne des rendements\n",
    "ecart_type = 0.05  # Écart-type des rendements\n",
    "niveau_confiance = 0.95  # Niveau de confiance\n",
    "\n",
    "# Calcul de la VaR\n",
    "var = stats.norm.ppf(1 - niveau_confiance, rendement_moyen, ecart_type)\n",
    "print(f\"VaR à {niveau_confiance*100}% de niveau de confiance : {var}\")\n"
   ]
  },
  {
   "cell_type": "code",
   "execution_count": 3,
   "metadata": {},
   "outputs": [
    {
     "name": "stdout",
     "output_type": "stream",
     "text": [
      "La VaR à 95.0% est de -0.0180\n"
     ]
    }
   ],
   "source": [
    "import numpy as np\n",
    "from scipy.stats import norm\n",
    "\n",
    "# Données historiques des rendements d'un actif\n",
    "returns = np.array([0.02, -0.01, 0.03, -0.02, 0.01])\n",
    "\n",
    "# Niveau de confiance (par exemple, 95%)\n",
    "confidence_level = 0.95\n",
    "\n",
    "# Calcul de la VaR\n",
    "VaR = np.percentile(returns, 100 * (1 - confidence_level))\n",
    "print(f\"La VaR à {confidence_level*100}% est de {VaR:.4f}\")\n"
   ]
  },
  {
   "cell_type": "markdown",
   "metadata": {},
   "source": [
    "## 2. IRC (Incremental Risk Charge)\n",
    "L’IRC mesure l’impact d’un nouvel instrument financier sur le risque global d’un portefeuille.\n",
    "\n",
    "L'IRC est une mesure du risque de crédit sur un horizon de temps donné, prenant en compte les changements potentiels de la note de crédit et le risque de défaut.\n",
    "\n",
    "Exemple en Python (calcul simplifié) :\n",
    "\n",
    "Pour calculer l'IRC, on aurait besoin de modèles complexes qui intègrent des transitions de notation de crédit, des probabilités de défaut, etc. Ce calcul dépasse le cadre d'un exemple simple."
   ]
  },
  {
   "cell_type": "code",
   "execution_count": 4,
   "metadata": {},
   "outputs": [
    {
     "name": "stdout",
     "output_type": "stream",
     "text": [
      "L'IRC est de 1000.02\n"
     ]
    }
   ],
   "source": [
    "# Supposons que nous ajoutions un nouvel instrument avec une perte de 1000 $\n",
    "new_instrument_loss = 1000\n",
    "\n",
    "# Calcul de l'IRC\n",
    "IRC = new_instrument_loss - VaR\n",
    "print(f\"L'IRC est de {IRC:.2f}\")\n"
   ]
  },
  {
   "cell_type": "markdown",
   "metadata": {},
   "source": [
    "## 3. EEPE (Effective Expected Positive Exposure)\n",
    "L’EEPE mesure l’exposition attendue d’un portefeuille à un risque de crédit.\n",
    "\n",
    "L'EEPE est une mesure utilisée pour évaluer l'exposition au risque de contrepartie sur les dérivés. Elle calcule l'exposition positive moyenne attendue sur une période donnée.\n",
    "\n",
    "Exemple en Python (calcul simplifié) :"
   ]
  },
  {
   "cell_type": "code",
   "execution_count": 5,
   "metadata": {},
   "outputs": [
    {
     "name": "stdout",
     "output_type": "stream",
     "text": [
      "EEPE : 200.0\n"
     ]
    }
   ],
   "source": [
    "# Supposons des expositions simulées pour un dérivé\n",
    "expositions = np.array([100, 200, 150, 250, 300])\n",
    "\n",
    "# Calcul de l'EEPE\n",
    "eepe = np.mean(expositions)\n",
    "print(f\"EEPE : {eepe}\")\n"
   ]
  },
  {
   "cell_type": "code",
   "execution_count": 6,
   "metadata": {},
   "outputs": [
    {
     "name": "stdout",
     "output_type": "stream",
     "text": [
      "L'EEPE est de 3500.00\n"
     ]
    }
   ],
   "source": [
    "# Supposons que nous ayons des expositions de crédit\n",
    "exposures = np.array([5000, 3000, 2000, 4000])\n",
    "\n",
    "# Calcul de l'EEPE\n",
    "EEPE = np.mean(exposures)\n",
    "print(f\"L'EEPE est de {EEPE:.2f}\")\n"
   ]
  },
  {
   "cell_type": "markdown",
   "metadata": {},
   "source": [
    "## 4. WWR (Wrong Way Risk)\n",
    "Le WWR se produit lorsque le risque de crédit d’un contrepartiste est corrélé positivement avec la valeur de marché de ses actifs.\n",
    "\n",
    "Le WWR est le risque que l'exposition à une contrepartie augmente au moment où la qualité de crédit de cette contrepartie se détériore.\n",
    "\n",
    "Exemple en Python (illustration conceptuelle) :\n",
    "\n",
    "Calculer le WWR nécessite une analyse des corrélations entre l'exposition et la qualité de crédit de la contrepartie. Ce calcul est spécifique à chaque situation et nécessite des données détaillées sur la contrepartie et le marché.\n",
    "\n",
    "Le Wrong Way Risk (WWR). Le WWR se produit lorsque le risque de crédit d’un contrepartiste est corrélé positivement avec la valeur de marché de ses actifs. Pour détecter cela, nous devons analyser la corrélation entre les rendements de l’actif et le risque de crédit."
   ]
  },
  {
   "cell_type": "code",
   "execution_count": 7,
   "metadata": {},
   "outputs": [
    {
     "name": "stdout",
     "output_type": "stream",
     "text": [
      "Corrélation entre les rendements de l'actif et le risque de crédit : -0.4489\n",
      "Pas de WWR (corrélation négative ou nulle).\n"
     ]
    },
    {
     "data": {
      "image/png": "[encoded data removed]",
      "text/plain": [
       "<Figure size 640x480 with 1 Axes>"
      ]
     },
     "metadata": {},
     "output_type": "display_data"
    }
   ],
   "source": [
    "import pandas as pd\n",
    "import numpy as np\n",
    "import matplotlib.pyplot as plt\n",
    "\n",
    "# Exemple de données fictives\n",
    "# Rendements de l'actif\n",
    "asset_returns = np.array([0.02, -0.01, 0.03, -0.02, 0.01])\n",
    "\n",
    "# Risque de crédit (par exemple, probabilité de défaut)\n",
    "credit_risk = np.array([0.1, 0.15, 0.08, 0.12, 0.18])\n",
    "\n",
    "# Calcul de la corrélation\n",
    "correlation = np.corrcoef(asset_returns, credit_risk)[0, 1]\n",
    "\n",
    "# Affichage des résultats\n",
    "print(f\"Corrélation entre les rendements de l'actif et le risque de crédit : {correlation:.4f}\")\n",
    "\n",
    "# Interprétation\n",
    "if correlation > 0:\n",
    "    print(\"Le WWR est présent (corrélation positive).\")\n",
    "else:\n",
    "    print(\"Pas de WWR (corrélation négative ou nulle).\")\n",
    "\n",
    "# Tracé du nuage de points\n",
    "plt.scatter(asset_returns, credit_risk)\n",
    "plt.xlabel(\"Rendements de l'actif\")\n",
    "plt.ylabel(\"Risque de crédit\")\n",
    "plt.title(\"Nuage de points : Rendements de l'actif vs Risque de crédit\")\n",
    "plt.grid(True)\n",
    "plt.show()\n"
   ]
  },
  {
   "cell_type": "markdown",
   "metadata": {},
   "source": [
    "## 5. Sensibilités (Greeks) :\n",
    "Les sensibilités mesurent la réaction d’un portefeuille d’options aux variations des paramètres du marché (comme la volatilité, les taux d’intérêt, etc.).\n",
    "\n",
    "Les sensibilités, également connues sous le nom de Grecs, sont des mesures qui évaluent la réaction d’un portefeuille d’options aux variations des paramètres du marché. Ces paramètres incluent la volatilité, les taux d’intérêt, le temps restant jusqu’à l’expiration et le prix de l’actif sous-jacent. Voici un exemple de code Python pour calculer certaines des sensibilités les plus courantes :"
   ]
  },
  {
   "cell_type": "code",
   "execution_count": 8,
   "metadata": {},
   "outputs": [
    {
     "name": "stdout",
     "output_type": "stream",
     "text": [
      "Delta : 0.4612\n",
      "Gamma : 0.0281\n",
      "Vega : 28.0757\n",
      "Theta : -7.6919\n"
     ]
    }
   ],
   "source": [
    "import numpy as np\n",
    "from scipy.stats import norm\n",
    "\n",
    "# Paramètres de l'option\n",
    "S0 = 100  # Prix actuel de l'actif sous-jacent\n",
    "K = 105   # Prix d'exercice de l'option\n",
    "r = 0.05  # Taux d'intérêt sans risque\n",
    "T = 0.5   # Durée jusqu'à l'expiration (en années)\n",
    "sigma = 0.2  # Volatilité de l'actif sous-jacent\n",
    "\n",
    "# Calcul du delta (sensibilité au prix de l'actif sous-jacent)\n",
    "d1 = (np.log(S0 / K) + (r + 0.5 * sigma**2) * T) / (sigma * np.sqrt(T))\n",
    "delta = norm.cdf(d1)\n",
    "print(f\"Delta : {delta:.4f}\")\n",
    "\n",
    "# Calcul du gamma (sensibilité du delta au prix de l'actif sous-jacent)\n",
    "d2 = d1 - sigma * np.sqrt(T)\n",
    "gamma = norm.pdf(d1) / (S0 * sigma * np.sqrt(T))\n",
    "print(f\"Gamma : {gamma:.4f}\")\n",
    "\n",
    "# Calcul de la vega (sensibilité à la volatilité)\n",
    "vega = S0 * norm.pdf(d1) * np.sqrt(T)\n",
    "print(f\"Vega : {vega:.4f}\")\n",
    "\n",
    "# Calcul de la theta (sensibilité au temps)\n",
    "theta = -(S0 * norm.pdf(d1) * sigma) / (2 * np.sqrt(T)) - r * K * np.exp(-r * T) * norm.cdf(d2)\n",
    "print(f\"Theta : {theta:.4f}\")\n"
   ]
  },
  {
   "cell_type": "markdown",
   "metadata": {},
   "source": [
    "## Conclusion\n",
    "Ces concepts sont essentiels pour la gestion du risque dans le secteur financier. Les exemples fournis sont simplifiés pour illustrer le calcul de base. Dans la pratique, le calcul de ces mesures de risque est beaucoup plus complexe et nécessite des données détaillées, ainsi que des modèles statistiques et financiers avancés."
   ]
  }
 ],
 "metadata": {
  "kernelspec": {
   "display_name": "Python 3",
   "language": "python",
   "name": "python3"
  },
  "language_info": {
   "codemirror_mode": {
    "name": "ipython",
    "version": 3
   },
   "file_extension": ".py",
   "mimetype": "text/x-python",
   "name": "python",
   "nbconvert_exporter": "python",
   "pygments_lexer": "ipython3",
   "version": "3.11.4"
  }
 },
 "nbformat": 4,
 "nbformat_minor": 2
}
