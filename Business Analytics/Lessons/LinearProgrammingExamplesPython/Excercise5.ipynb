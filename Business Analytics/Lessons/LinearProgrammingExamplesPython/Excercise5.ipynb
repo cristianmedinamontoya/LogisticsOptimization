{
 "cells": [
  {
   "cell_type": "code",
   "execution_count": 12,
   "metadata": {},
   "outputs": [
    {
     "data": {
      "text/plain": [
       "(array([60., 30.]), -2100.0, True)"
      ]
     },
     "execution_count": 12,
     "metadata": {},
     "output_type": "execute_result"
    }
   ],
   "source": [
    "# from docplex.mp.model import Model\n",
    "\n",
    "# m = Model(name=\"OptimalProduction\")\n",
    "# Xa = m.continuous_var(name=\"A\")\n",
    "# Xb = m.continuous_var(name=\"B\")\n",
    "\n",
    "# # Labor constraint\n",
    "# ctTime = m.add_constraint(20*Xa + 40*Xb <= 2400)\n",
    "\n",
    "# # Capacity constraints\n",
    "# CapA = m.add_constraint(Xa <= 60)\n",
    "# CapB = m.add_constraint(Xb <= 50)\n",
    "\n",
    "# # Non-negativity constraints are not needed since continuous_var defaults to non-negative\n",
    "# # However, if you want to be explicit, you can add them\n",
    "# # PosA = m.add_constraint(Xa >= 0)\n",
    "# # PosB = m.add_constraint(Xb >= 0)\n",
    "\n",
    "# # Objective function\n",
    "# m.maximize(20*Xa + 30*Xb)\n",
    "\n",
    "# # Print model information\n",
    "# m.print_information()\n",
    "\n",
    "# # Solve the model\n",
    "# s = m.solve()\n",
    "# m.print_solution()\n",
    "\n",
    "from scipy.optimize import linprog\n",
    "\n",
    "# Coefficients of the objective function (Profit for each refrigerator type)\n",
    "c = [-20, -30]  # Negative values for maximization\n",
    "\n",
    "# Coefficients of the inequality constraints (Labor and production capacity)\n",
    "A = [\n",
    "    [1/3, 2/3],  # Labor constraint coefficients (20 min = 1/3 hour, 40 min = 2/3 hour)\n",
    "    [1, 0],      # Production capacity for A\n",
    "    [0, 1]       # Production capacity for B\n",
    "]\n",
    "\n",
    "b = [40, 60, 50]  # Right-hand side of inequality constraints\n",
    "\n",
    "# Bounds for each variable\n",
    "x0_bounds = (0, None)  # Refrigerator A can't be negative and has no upper bound\n",
    "x1_bounds = (0, None)  # Refrigerator B can't be negative and has no upper bound\n",
    "\n",
    "# Perform linear programming\n",
    "result = linprog(c, A_ub=A, b_ub=b, bounds=[x0_bounds, x1_bounds], method='highs')\n",
    "\n",
    "result.x, result.fun,result.success"
   ]
  }
 ],
 "metadata": {
  "kernelspec": {
   "display_name": "Python 3",
   "language": "python",
   "name": "python3"
  },
  "language_info": {
   "codemirror_mode": {
    "name": "ipython",
    "version": 3
   },
   "file_extension": ".py",
   "mimetype": "text/x-python",
   "name": "python",
   "nbconvert_exporter": "python",
   "pygments_lexer": "ipython3",
   "version": "3.9.6"
  }
 },
 "nbformat": 4,
 "nbformat_minor": 2
}
