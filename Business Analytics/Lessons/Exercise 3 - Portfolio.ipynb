{
 "cells": [
  {
   "cell_type": "code",
   "execution_count": 6,
   "id": "732df755",
   "metadata": {},
   "outputs": [
    {
     "name": "stdout",
     "output_type": "stream",
     "text": [
      "Model: Porfolio\n",
      " - number of variables: 5\n",
      "   - binary=0, integer=0, continuous=5\n",
      " - number of constraints: 4\n",
      "   - linear=4\n",
      " - parameters: defaults\n",
      " - objective: maximize\n",
      " - problem type is: LP\n",
      "objective: 11.200\n",
      "  X1v=0.400\n",
      "  X3v=0.400\n",
      "  X4v=0.200\n"
     ]
    }
   ],
   "source": [
    "from docplex.mp.model import Model\n",
    "m = Model(name='Porfolio')\n",
    "\n",
    "X1 = m.continuous_var(name='X1v')\n",
    "X2 = m.continuous_var(name='X2v')\n",
    "X3 = m.continuous_var(name='X3v')\n",
    "X4 = m.continuous_var(name='X4v')\n",
    "X5 = m.continuous_var(name='X5v')\n",
    "\n",
    "TotalBudget = m.add_constraint(X1 + X2 + X3 + X4 + X5 <= 1, 'budget')\n",
    "Risk = m.add_constraint(-2*X1 + X2 + 3*X3 - 3*X4 - 4*X5 <= 1, 'risk')\n",
    "X4Const = m.add_constraint(X4 >= 20/100 * (X1 + X2 + X3 + X4 + X5), 'X4limit')\n",
    "X1X2X3 = m.add_constraint(X2 + X3 <= X1, 'X1limit')\n",
    "\n",
    "m.maximize(9*X1 + 12*X2 + 15*X3 + 8*X4 + 6*X5)\n",
    "m.print_information()\n",
    "\n",
    "s=m.solve()\n",
    "m.print_solution()"
   ]
  }
 ],
 "metadata": {
  "kernelspec": {
   "display_name": "Python 3 (ipykernel)",
   "language": "python",
   "name": "python3"
  },
  "language_info": {
   "codemirror_mode": {
    "name": "ipython",
    "version": 3
   },
   "file_extension": ".py",
   "mimetype": "text/x-python",
   "name": "python",
   "nbconvert_exporter": "python",
   "pygments_lexer": "ipython3",
   "version": "3.9.15"
  }
 },
 "nbformat": 4,
 "nbformat_minor": 5
}
